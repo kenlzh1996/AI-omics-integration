{
 "cells": [
  {
   "cell_type": "code",
   "execution_count": 1,
   "id": "df14cee1",
   "metadata": {},
   "outputs": [],
   "source": [
    "# Import packages\n",
    "import re\n",
    "from pathlib import Path\n",
    "import numpy as np\n",
    "import pandas as pd\n",
    "import os\n",
    "from pdb import set_trace\n",
    "import matplotlib.pyplot as plt\n",
    "import PIL #for images\n",
    "import copy\n",
    "\n",
    "from sklearn.model_selection import train_test_split\n",
    "from sklearn.utils.class_weight import compute_sample_weight\n",
    "\n",
    "import torch\n",
    "from torch import nn\n",
    "from torch.utils.data import Dataset\n",
    "from torch.utils.data import DataLoader\n",
    "from torchvision.io import read_image\n",
    "from torchvision import models, transforms"
   ]
  },
  {
   "cell_type": "markdown",
   "id": "958310b8",
   "metadata": {},
   "source": [
    "### Values set up"
   ]
  },
  {
   "cell_type": "code",
   "execution_count": 2,
   "id": "383b556f",
   "metadata": {},
   "outputs": [],
   "source": [
    "#Specifications\n",
    "\n",
    "# Data splitting and path\n",
    "label_filepath = Path('SubCellBarcode.MCF7.0622.txt')\n",
    "image_folderpath = Path('images_patient')\n",
    "validation_fraction = 0.2\n",
    "\n",
    "# Model weight\n",
    "ModelWeightSpefication = 'random'\n",
    "\n",
    "if ModelWeightSpefication == 'random':\n",
    "    ModelWeights = None\n",
    "if ModelWeightSpefication == 'pretrained':\n",
    "    ModelWeights = models.squeezenet1_1.DEFAULT # it is the best available weight for resnet50 \n",
    "    \n",
    "# Optimizer\n",
    "Weight_Decay = 1e-4\n",
    "#  penalizes for too many weights - helps prevent overfitting\n",
    "\n",
    "Momentum = 0.9\n",
    "#  a way to smooth noise that is passed to the optimizer, 0.9\n",
    "#  momentum is deterimental without label smoothing\n",
    "\n",
    "Learner_rate = 1e-3\n",
    "\n",
    "# Loss Function\n",
    "Label_Smoothing = 0.3\n",
    "#  was 0.1\n",
    "#  sets the target of the loss function to something greater than 0 and less than 1\n",
    "#  helps prevent overfitting\n",
    "\n",
    "TransformOrNot = False\n",
    "\n",
    "ApplyClassWeightToLoss = False\n",
    "# Makes the loss weights equal to the fraction of each category label\n",
    "# Note, a layer is added to the model so the outputs of the model are equal to the number of categories\n",
    "#     This seems like a bug becuase that should already be the case\n",
    "\n",
    "# Run the model\n",
    "epochs = 70"
   ]
  },
  {
   "cell_type": "markdown",
   "id": "6026e403",
   "metadata": {},
   "source": [
    "### Device set up"
   ]
  },
  {
   "cell_type": "code",
   "execution_count": 3,
   "id": "d5d24e33",
   "metadata": {},
   "outputs": [
    {
     "name": "stdout",
     "output_type": "stream",
     "text": [
      "Using device: cuda\n",
      "Is cuda available?: True\n",
      "cuda version: 11.7\n"
     ]
    }
   ],
   "source": [
    "# Check to see if the GPU is available and store it as a variable so tensors can be moved to it\n",
    "device = torch.device('cuda' if torch.cuda.is_available() else 'cpu')\n",
    "print('Using device:', device)\n",
    "print('Is cuda available?:', torch.cuda.is_available())\n",
    "print('cuda version:', torch.version.cuda)\n",
    "dev = \"cuda:0\""
   ]
  },
  {
   "cell_type": "markdown",
   "id": "42e69732",
   "metadata": {},
   "source": [
    "### Transformation set up"
   ]
  },
  {
   "cell_type": "code",
   "execution_count": 4,
   "id": "69482cc1",
   "metadata": {},
   "outputs": [],
   "source": [
    "# Transformation\n",
    "# transforms = transforms.Normalize(mean=[0.485, 0.456, 0.406], std=[0.229, 0.224, 0.225])"
   ]
  },
  {
   "cell_type": "markdown",
   "id": "c15fa12b",
   "metadata": {},
   "source": [
    "### Custom image dataset set up"
   ]
  },
  {
   "cell_type": "code",
   "execution_count": 5,
   "id": "9414395c",
   "metadata": {},
   "outputs": [],
   "source": [
    "# Create the CustomImageDataset class from the parent Dataset class\n",
    "class CustomImageDataset(Dataset):\n",
    "    def __init__(self, input_df, img_dir, transform=None, target_transform=None, image_extension='.png'):\n",
    "        self.img_labels = input_df\n",
    "        self.img_dir = img_dir\n",
    "        self.transform = transform\n",
    "        self.target_transform = target_transform\n",
    "        self.image_extension = image_extension\n",
    "\n",
    "    def __len__(self):\n",
    "        return len(self.img_labels)\n",
    "\n",
    "    def __getitem__(self, idx):\n",
    "        img_path = os.path.join(self.img_dir, self.img_labels.iloc[idx, 0] + self.image_extension)\n",
    "        image = read_image(img_path)\n",
    "        image = image.float()\n",
    "        label = self.img_labels.iloc[idx, 1]\n",
    "        if self.transform:\n",
    "            image = self.transform(image)\n",
    "        if self.target_transform:\n",
    "            label = self.target_transform(label)\n",
    "            \n",
    "        return image, label"
   ]
  },
  {
   "cell_type": "markdown",
   "id": "704b6de2",
   "metadata": {},
   "source": [
    "### Training/Validation datasets set up"
   ]
  },
  {
   "cell_type": "code",
   "execution_count": 6,
   "id": "0b68d3b5",
   "metadata": {},
   "outputs": [],
   "source": [
    "# Create a function to output training and validation annotation data frames from a single annotations file\n",
    "def GetTrainValAnnotDataFrames(labels, img_dir, val_frac):\n",
    "    # Inputs:\n",
    "    # labels: a directory to an comma separated file with image filenames (no extention, so gene name) and their labels\n",
    "    # img_dir: a directory to the folder containing the image files\n",
    "    # val_frac: the fraction of samples used for validation\n",
    "    \n",
    "    # read the csv file with the sample annotations\n",
    "    labels_df = pd.read_csv(labels, header=None, sep='\\t', dtype=str)\n",
    "    \n",
    "    # read the directory containing the images to get a list of filenames\n",
    "    #     strip the file extension so the filenames match the gene name in labels_df\n",
    "    image_list = [file for file in os.listdir(img_dir) if not file.startswith('.')] # take care of hidden files\n",
    "    gene_list = [os.path.splitext(file)[0] for file in image_list]  \n",
    "    \n",
    "    # remove entries in the labels_df that are not in the list of images\n",
    "    #     this is done so that the training and validation sets are divided correctly\n",
    "    common_indices = [item in gene_list for item in labels_df.iloc[:,0]]\n",
    "    labels_df = labels_df.loc[common_indices,:]\n",
    "    \n",
    "    # extract unique class label into an array\n",
    "    unique_labels = np.unique(labels_df.iloc[:,1])\n",
    "    \n",
    "    # split into training and validation set\n",
    "    train_df, valid_df = train_test_split(labels_df, test_size=val_frac, random_state=42)\n",
    "    \n",
    "    print(f\"Total labels: {len(labels_df)}\")\n",
    "    print(f\"Total genes in training are {len(train_df)}; in validation are {len(valid_df)}; sum is {len(train_df)+len(valid_df)}\")\n",
    "    print(f\"Unique labels: {unique_labels}\")\n",
    "    \n",
    "    return train_df, valid_df, unique_labels"
   ]
  },
  {
   "cell_type": "markdown",
   "id": "4fe9deb7",
   "metadata": {},
   "source": [
    "### Show image and label to tensor set up"
   ]
  },
  {
   "cell_type": "code",
   "execution_count": 7,
   "id": "46bb5a40",
   "metadata": {},
   "outputs": [],
   "source": [
    "# Function to convert a torchvision tensor to the default format for matplotlib\n",
    "    # matplotlib.pyplot.imshow interprets an RGB vector as shape (N,M,3) \n",
    "    # torchvision.io.read_image reads an RGB image as shape (3,N,M)\n",
    "def ShowTorchvisionImage(ImageTensor):\n",
    "    ImageTensor_t1 = ImageTensor.transpose(1,2)\n",
    "    ImageTensor_t2 = ImageTensor_t1.transpose(0,2)\n",
    "    plt.imshow(ImageTensor_t2)\n",
    "    \n",
    "# Function to convert label numpy array to label tensor    \n",
    "def LabelArray_to_Tensor(input_array,labels_unique):\n",
    "    # converts a label array of strings to a tensor of floats\n",
    "    # Inputs:\n",
    "    #   input_array: the array of strings that are labels\n",
    "    #   labels_unique: an ordered list of the unique labels possible for the data set\n",
    "    # Outputs:\n",
    "    #   output_tensor: a tensor of floats, one unique float corresponding to each label\n",
    "    \n",
    "    int_label = np.arange(0,len(labels_unique))\n",
    "    i = 0\n",
    "    for label in labels_unique:\n",
    "        indices = [label == item for item in input_array]\n",
    "        input_array[indices] = int_label[i]\n",
    "        i = i+1\n",
    "\n",
    "    input_array = input_array.astype(float)\n",
    "    output_tensor = torch.as_tensor(input_array)\n",
    "    output_tensor = output_tensor.long()\n",
    "  \n",
    "    return(output_tensor)"
   ]
  },
  {
   "cell_type": "markdown",
   "id": "3109d1f6",
   "metadata": {},
   "source": [
    "### Training and testing epoch loop set up"
   ]
  },
  {
   "cell_type": "code",
   "execution_count": 8,
   "id": "663d6448",
   "metadata": {},
   "outputs": [],
   "source": [
    "# Function for training the weights of the model\n",
    "def train_loop(dataloader, model, loss_fn, optimizer):\n",
    "    size = len(dataloader.dataset)\n",
    "    for batch, (X, y) in enumerate(dataloader):\n",
    "        # Compute prediction and loss\n",
    "\n",
    "        X = X.to(torch.float32) # convert to float32 to avoid error stating byte expected but found float\n",
    "        X = X.to(dev)\n",
    "        pred = model(X) # predict classes using images from the training set\n",
    "        \n",
    "        # convert the labels into a tensor of intigers and compute the loss\n",
    "        y = np.asarray(y)\n",
    "        y = LabelArray_to_Tensor(y,unique_label_array)\n",
    "        y = y.to(dev)\n",
    "        loss = loss_fn(pred, y) # compute the loss based on model output and real labels\n",
    "\n",
    "        # Backpropagation\n",
    "        optimizer.zero_grad() # zero the parameter gradients \n",
    "        loss.backward() # backpropagate the loss\n",
    "        optimizer.step() # adjust parameters based on the calculated gradients\n",
    "             \n",
    "\n",
    "    loss = loss.item() # extract the loss value\n",
    "    \n",
    "    return(loss)\n",
    "            \n",
    "# Function for validating the weights of the model\n",
    "def test_loop(dataloader, model, loss_fn):\n",
    "    size = len(dataloader.dataset)\n",
    "    num_batches = len(dataloader)\n",
    "    test_loss, correct = 0, 0\n",
    "\n",
    "    with torch.no_grad():\n",
    "        for X, y in dataloader:\n",
    "            \n",
    "            # convert to float32 to avoid error stating byte expected but found float\n",
    "            X = X.to(torch.float32)\n",
    "            X = X.to(dev)\n",
    "            pred = model(X)\n",
    "            \n",
    "            # convert the labels into a tensor of intigers and compute the loss\n",
    "            y = np.asarray(y)\n",
    "            y = LabelArray_to_Tensor(y,unique_label_array)\n",
    "            y = y.to(dev)\n",
    "            test_loss += loss_fn(pred, y).item()\n",
    "            correct += (pred.argmax(1) == y).type(torch.float).sum().item()\n",
    "\n",
    "    test_loss /= num_batches\n",
    "    correct /= size\n",
    "    \n",
    "    return(test_loss,correct)"
   ]
  },
  {
   "cell_type": "markdown",
   "id": "052c2cb7",
   "metadata": {},
   "source": [
    "### Pretrained model set up"
   ]
  },
  {
   "cell_type": "code",
   "execution_count": 9,
   "id": "d882c137",
   "metadata": {},
   "outputs": [
    {
     "data": {
      "text/plain": [
       "<bound method Module.parameters of SqueezeNet(\n",
       "  (features): Sequential(\n",
       "    (0): Conv2d(3, 64, kernel_size=(3, 3), stride=(2, 2))\n",
       "    (1): ReLU(inplace=True)\n",
       "    (2): MaxPool2d(kernel_size=3, stride=2, padding=0, dilation=1, ceil_mode=True)\n",
       "    (3): Fire(\n",
       "      (squeeze): Conv2d(64, 16, kernel_size=(1, 1), stride=(1, 1))\n",
       "      (squeeze_activation): ReLU(inplace=True)\n",
       "      (expand1x1): Conv2d(16, 64, kernel_size=(1, 1), stride=(1, 1))\n",
       "      (expand1x1_activation): ReLU(inplace=True)\n",
       "      (expand3x3): Conv2d(16, 64, kernel_size=(3, 3), stride=(1, 1), padding=(1, 1))\n",
       "      (expand3x3_activation): ReLU(inplace=True)\n",
       "    )\n",
       "    (4): Fire(\n",
       "      (squeeze): Conv2d(128, 16, kernel_size=(1, 1), stride=(1, 1))\n",
       "      (squeeze_activation): ReLU(inplace=True)\n",
       "      (expand1x1): Conv2d(16, 64, kernel_size=(1, 1), stride=(1, 1))\n",
       "      (expand1x1_activation): ReLU(inplace=True)\n",
       "      (expand3x3): Conv2d(16, 64, kernel_size=(3, 3), stride=(1, 1), padding=(1, 1))\n",
       "      (expand3x3_activation): ReLU(inplace=True)\n",
       "    )\n",
       "    (5): MaxPool2d(kernel_size=3, stride=2, padding=0, dilation=1, ceil_mode=True)\n",
       "    (6): Fire(\n",
       "      (squeeze): Conv2d(128, 32, kernel_size=(1, 1), stride=(1, 1))\n",
       "      (squeeze_activation): ReLU(inplace=True)\n",
       "      (expand1x1): Conv2d(32, 128, kernel_size=(1, 1), stride=(1, 1))\n",
       "      (expand1x1_activation): ReLU(inplace=True)\n",
       "      (expand3x3): Conv2d(32, 128, kernel_size=(3, 3), stride=(1, 1), padding=(1, 1))\n",
       "      (expand3x3_activation): ReLU(inplace=True)\n",
       "    )\n",
       "    (7): Fire(\n",
       "      (squeeze): Conv2d(256, 32, kernel_size=(1, 1), stride=(1, 1))\n",
       "      (squeeze_activation): ReLU(inplace=True)\n",
       "      (expand1x1): Conv2d(32, 128, kernel_size=(1, 1), stride=(1, 1))\n",
       "      (expand1x1_activation): ReLU(inplace=True)\n",
       "      (expand3x3): Conv2d(32, 128, kernel_size=(3, 3), stride=(1, 1), padding=(1, 1))\n",
       "      (expand3x3_activation): ReLU(inplace=True)\n",
       "    )\n",
       "    (8): MaxPool2d(kernel_size=3, stride=2, padding=0, dilation=1, ceil_mode=True)\n",
       "    (9): Fire(\n",
       "      (squeeze): Conv2d(256, 48, kernel_size=(1, 1), stride=(1, 1))\n",
       "      (squeeze_activation): ReLU(inplace=True)\n",
       "      (expand1x1): Conv2d(48, 192, kernel_size=(1, 1), stride=(1, 1))\n",
       "      (expand1x1_activation): ReLU(inplace=True)\n",
       "      (expand3x3): Conv2d(48, 192, kernel_size=(3, 3), stride=(1, 1), padding=(1, 1))\n",
       "      (expand3x3_activation): ReLU(inplace=True)\n",
       "    )\n",
       "    (10): Fire(\n",
       "      (squeeze): Conv2d(384, 48, kernel_size=(1, 1), stride=(1, 1))\n",
       "      (squeeze_activation): ReLU(inplace=True)\n",
       "      (expand1x1): Conv2d(48, 192, kernel_size=(1, 1), stride=(1, 1))\n",
       "      (expand1x1_activation): ReLU(inplace=True)\n",
       "      (expand3x3): Conv2d(48, 192, kernel_size=(3, 3), stride=(1, 1), padding=(1, 1))\n",
       "      (expand3x3_activation): ReLU(inplace=True)\n",
       "    )\n",
       "    (11): Fire(\n",
       "      (squeeze): Conv2d(384, 64, kernel_size=(1, 1), stride=(1, 1))\n",
       "      (squeeze_activation): ReLU(inplace=True)\n",
       "      (expand1x1): Conv2d(64, 256, kernel_size=(1, 1), stride=(1, 1))\n",
       "      (expand1x1_activation): ReLU(inplace=True)\n",
       "      (expand3x3): Conv2d(64, 256, kernel_size=(3, 3), stride=(1, 1), padding=(1, 1))\n",
       "      (expand3x3_activation): ReLU(inplace=True)\n",
       "    )\n",
       "    (12): Fire(\n",
       "      (squeeze): Conv2d(512, 64, kernel_size=(1, 1), stride=(1, 1))\n",
       "      (squeeze_activation): ReLU(inplace=True)\n",
       "      (expand1x1): Conv2d(64, 256, kernel_size=(1, 1), stride=(1, 1))\n",
       "      (expand1x1_activation): ReLU(inplace=True)\n",
       "      (expand3x3): Conv2d(64, 256, kernel_size=(3, 3), stride=(1, 1), padding=(1, 1))\n",
       "      (expand3x3_activation): ReLU(inplace=True)\n",
       "    )\n",
       "  )\n",
       "  (classifier): Sequential(\n",
       "    (0): Dropout(p=0.5, inplace=False)\n",
       "    (1): Conv2d(512, 1000, kernel_size=(1, 1), stride=(1, 1))\n",
       "    (2): ReLU(inplace=True)\n",
       "    (3): AdaptiveAvgPool2d(output_size=(1, 1))\n",
       "  )\n",
       ")>"
      ]
     },
     "execution_count": 9,
     "metadata": {},
     "output_type": "execute_result"
    }
   ],
   "source": [
    "# Define the model (pretrained)\n",
    "\n",
    "# initial model weights\n",
    "# model = models.resnet50(weights=ModelWeights)\n",
    "# model = models.resnet50() # without initial weights defined - good for patients not re-arranged\n",
    "model = models.squeezenet1_1()\n",
    "\n",
    "# Update the out channels to match with number of class in our data\n",
    "if ApplyClassWeightToLoss:\n",
    "    model = models.squeezenet1_1()\n",
    "    model.classifier[1].out_channels = 4\n",
    "    \n",
    "#     for p in model.parameters(): # Freeze all parameters in the network\n",
    "#         p.requires_grad = False\n",
    "    \n",
    "    for p in model.classifier.parameters(): # Make classification layer trainable\n",
    "        p.requires_grad = False \n",
    "        \n",
    "    for p in model.features[-3:-1].parameters(): # retrain the last few layers\n",
    "        p.requires_grad = True\n",
    "    \n",
    "model = model.to(dev)\n",
    "\n",
    "# see the model architecture if desired\n",
    "model.parameters"
   ]
  },
  {
   "cell_type": "markdown",
   "id": "62d201c4",
   "metadata": {},
   "source": [
    "### Loss function and unbalanced class weight set up"
   ]
  },
  {
   "cell_type": "code",
   "execution_count": 10,
   "id": "b5baf7a4",
   "metadata": {},
   "outputs": [],
   "source": [
    "# Define the loss function\n",
    "# This needs to be made general for the number of classes\n",
    "\n",
    "# funciton call\n",
    "# training, validation, unique_label_array = GetTrainValAnnotDataFrames(labels=label_filepath, img_dir=image_folderpath, val_frac=validation_fraction)\n",
    "\n",
    "# Wrap data into the custom pytorch dataset class\n",
    "# if TransformOrNot:\n",
    "#     TrainingData = CustomImageDataset(input_df=training,img_dir=image_folderpath, transform=transforms)\n",
    "#     ValidationData = CustomImageDataset(input_df=validation,img_dir=image_folderpath, transform=transforms)\n",
    "# else:\n",
    "#     TrainingData = CustomImageDataset(input_df=training,img_dir=image_folderpath)\n",
    "#     ValidationData = CustomImageDataset(input_df=validation,img_dir=image_folderpath)\n",
    "    \n",
    "# loss function\n",
    "\n",
    "if ApplyClassWeightToLoss:\n",
    "    # Nate's weight tensor([ 2.2273, 13.4550,  3.5913,  5.0439]\n",
    "    # Weights for each class for loss function\n",
    "#     n_cytosol = float(sum(TrainingData.img_labels.iloc[:,1]=='Cytosol'))\n",
    "#     n_mitochondria = float(sum(TrainingData.img_labels.iloc[:,1]=='Mitochondria'))\n",
    "#     n_nuclear = float(sum(TrainingData.img_labels.iloc[:,1]=='Nuclear'))\n",
    "#     n_secretory = float(sum(TrainingData.img_labels.iloc[:,1]=='Secretory'))\n",
    "#     n_total = len(TrainingData.img_labels.iloc[:,1])\n",
    "    \n",
    "    # zhuoheng's weight\n",
    "    # train_weight = compute_sample_weight('balanced', y=train_labels)\n",
    "    LossWeights = torch.tensor([0.59259259,5.33333333,0.84210526,1.06666667]).to(device)\n",
    "    loss_fn = nn.CrossEntropyLoss(label_smoothing=Label_Smoothing, weight=LossWeights)\n",
    "\n",
    "else:\n",
    "    loss_fn = nn.CrossEntropyLoss(label_smoothing=Label_Smoothing)"
   ]
  },
  {
   "cell_type": "markdown",
   "id": "293cdeb0",
   "metadata": {},
   "source": [
    "### Optimizer set up"
   ]
  },
  {
   "cell_type": "code",
   "execution_count": 11,
   "id": "e3af4dda",
   "metadata": {},
   "outputs": [],
   "source": [
    "# Define the optimizer\n",
    "def Optimizer(name, model):\n",
    "    if name == 'SGD_weight':\n",
    "        optimizer = torch.optim.SGD(model.parameters(), lr=Learner_rate, weight_decay=Weight_Decay, momentum=Momentum)\n",
    "    if name == 'SGD_default':\n",
    "        optimizer = torch.optim.SGD(model.parameters(), lr=Learner_rate)\n",
    "    if name == 'Adam':\n",
    "        optimizer = torch.optim.Adam(model.parameters(), lr=Learner_rate)\n",
    "        \n",
    "    return optimizer"
   ]
  },
  {
   "cell_type": "markdown",
   "id": "e36bdc13",
   "metadata": {},
   "source": [
    "### Early stopping set up"
   ]
  },
  {
   "cell_type": "code",
   "execution_count": 12,
   "id": "f4869dd0",
   "metadata": {},
   "outputs": [],
   "source": [
    "# criterion = torch.optim.lr_scheduler.ReduceLROnPlateau(monitor='val_loss', patience=5)"
   ]
  },
  {
   "cell_type": "markdown",
   "id": "32c4761e",
   "metadata": {},
   "source": [
    "### Actual training"
   ]
  },
  {
   "cell_type": "code",
   "execution_count": 13,
   "id": "f476c7ee",
   "metadata": {},
   "outputs": [
    {
     "name": "stdout",
     "output_type": "stream",
     "text": [
      "Total labels: 6173\n",
      "Total genes in training are 4938; in validation are 1235; sum is 6173\n",
      "Unique labels: ['Cytosol' 'Mitochondria' 'Nuclear' 'Secretory']\n"
     ]
    }
   ],
   "source": [
    "# funciton call\n",
    "training, validation, unique_label_array = GetTrainValAnnotDataFrames(labels=label_filepath, img_dir=image_folderpath, val_frac=validation_fraction)"
   ]
  },
  {
   "cell_type": "code",
   "execution_count": 14,
   "id": "58bd97f9",
   "metadata": {},
   "outputs": [
    {
     "name": "stderr",
     "output_type": "stream",
     "text": [
      "Clipping input data to the valid range for imshow with RGB data ([0..1] for floats or [0..255] for integers).\n"
     ]
    },
    {
     "name": "stdout",
     "output_type": "stream",
     "text": [
      "Label: Cytosol\n"
     ]
    },
    {
     "data": {
      "image/png": "[encoded data removed]",
      "text/plain": [
       "<Figure size 640x480 with 1 Axes>"
      ]
     },
     "metadata": {},
     "output_type": "display_data"
    }
   ],
   "source": [
    "# Wrap data into the custom pytorch dataset class\n",
    "if TransformOrNot:\n",
    "    TrainingData = CustomImageDataset(input_df=training,img_dir=image_folderpath, transform=transforms)\n",
    "    ValidationData = CustomImageDataset(input_df=validation,img_dir=image_folderpath, transform=transforms)\n",
    "else:\n",
    "    TrainingData = CustomImageDataset(input_df=training,img_dir=image_folderpath)\n",
    "    ValidationData = CustomImageDataset(input_df=validation,img_dir=image_folderpath)\n",
    "\n",
    "# Define Data Loaders\n",
    "train_dataloader = DataLoader(TrainingData, batch_size=64, shuffle=True)\n",
    "val_dataloader = DataLoader(ValidationData, batch_size=64, shuffle=True)\n",
    "\n",
    "# Display a training image and its corresponding label.\n",
    "train_features, train_labels = next(iter(train_dataloader))\n",
    "img = train_features[0].squeeze() #no squeeze\n",
    "label = train_labels[0]\n",
    "ShowTorchvisionImage(img)\n",
    "print(f\"Label: {label}\")"
   ]
  },
  {
   "cell_type": "code",
   "execution_count": null,
   "id": "1b7b6957",
   "metadata": {},
   "outputs": [
    {
     "name": "stdout",
     "output_type": "stream",
     "text": [
      "Epoch   Train Loss   Val Loss   Train Accuracy   Val Accuracy\n",
      "\n",
      "    0     3.696576   3.546085       44.896719%     47.611336%\n",
      "    1     3.626653   3.540665       44.896719%     47.449393%\n",
      "    2     3.579425   3.535417       44.896719%     47.449393%\n",
      "    3     3.458049   3.571214       44.896719%     47.449393%\n",
      "    4     3.517411   3.552947       44.896719%     47.449393%\n",
      "    5     3.455444   3.539004       44.896719%     47.449393%\n",
      "    6     3.460419   3.535198       44.896719%     47.449393%\n",
      "    7     3.578037   3.533363       44.896719%     47.449393%\n"
     ]
    }
   ],
   "source": [
    "# Run the model\n",
    "\n",
    "# set up performance dataframe to record loss and accuracy of each epoch\n",
    "PerformanceDF = pd.DataFrame(index=range(epochs),columns=['Epoch','TrainLoss','ValLoss','TrainAcc','ValAcc'])\n",
    "print(f\"{'Epoch':>5s}{'Train Loss':>13s}{'Val Loss':>11s}{'Train Accuracy':>17s}{'Val Accuracy':>15s}\\n\")\n",
    "\n",
    "# call optimizer\n",
    "optimizer = Optimizer('Adam', model)\n",
    "    \n",
    "for t in range(epochs): \n",
    "    train_loss = train_loop(train_dataloader, model, loss_fn, optimizer)\n",
    "    val_loss, val_accuracy = test_loop(val_dataloader, model, loss_fn)\n",
    "    train_loss2, train_accuracy = test_loop(train_dataloader, model, loss_fn)\n",
    "    Epoch = t\n",
    "    print(f\"{str(Epoch):>5s}{train_loss:>13f}{val_loss:>11f}{train_accuracy*100:>16f}%{val_accuracy*100:>14f}%\")\n",
    "    PerformanceDF.loc[t,:]=[Epoch,train_loss,val_loss,train_accuracy*100,val_accuracy*100]\n",
    "    \n",
    "    # note: I am not sure how to load the MSD into the model\n",
    "    if Epoch == 0:\n",
    "        highest_val_accuracy = 0 \n",
    "        MSD0 = copy.deepcopy(model.state_dict())\n",
    "    if val_accuracy > highest_val_accuracy:\n",
    "        highest_val_accuracy = val_accuracy\n",
    "        MSD_Best = copy.deepcopy(model.state_dict())\n",
    "    \n",
    "print(\"Done!\")"
   ]
  },
  {
   "cell_type": "code",
   "execution_count": null,
   "id": "936ec48e",
   "metadata": {},
   "outputs": [],
   "source": [
    "print('Best recorded epoch validation accuracy: ' + str(round(100*highest_val_accuracy,2)))\n",
    "\n",
    "BestModel = copy.deepcopy(model)\n",
    "BestModel.load_state_dict(MSD_Best)\n",
    "val_loss,best_val_accuracy = test_loop(val_dataloader, BestModel, loss_fn)\n",
    "print('Best epoch recalculated validation accuracy: ' + str(round(100*best_val_accuracy,2)))\n",
    "\n",
    "FirstModel = copy.deepcopy(model)\n",
    "FirstModel.load_state_dict(MSD0)\n",
    "val_loss,first_val_accuracy = test_loop(val_dataloader, FirstModel, loss_fn)\n",
    "print('First epoch validation Accuracy: ' + str(round(100*first_val_accuracy,2)))"
   ]
  },
  {
   "cell_type": "code",
   "execution_count": null,
   "id": "28de5e9e",
   "metadata": {},
   "outputs": [],
   "source": [
    "# build confusion matrix\n",
    "#   https://christianbernecker.medium.com/how-to-create-a-confusion-matrix-in-pytorch-38d06a7f04b7\n",
    "\n",
    "from sklearn.metrics import confusion_matrix, ConfusionMatrixDisplay\n",
    "import seaborn as sn\n",
    "\n",
    "y_pred = []\n",
    "y_true = []\n",
    "\n",
    "# iterate over test data\n",
    "for X, y in val_dataloader:\n",
    "    \n",
    "        X = X.to(torch.float32)\n",
    "        X = X.to(dev)\n",
    "        output = model(X) # Feed Network\n",
    "\n",
    "        output = (torch.max(torch.exp(output), 1)[1]).data.cpu().numpy()\n",
    "        output_string = [unique_label_array[i] for i in output]\n",
    "        \n",
    "        y_pred.extend(output_string) # Save Prediction\n",
    "        \n",
    "        labels = y\n",
    "        y_true.extend(labels) # Save Truth\n",
    "\n",
    "# constant for classes\n",
    "# classes = unique_labels\n",
    "\n",
    "# Build confusion matrix\n",
    "cf_matrix = confusion_matrix(y_true, y_pred)\n",
    "disp = ConfusionMatrixDisplay(confusion_matrix=cf_matrix, display_labels=unique_label_array)\n",
    "disp.plot()\n",
    "plt.show()\n",
    "# cf_matrix_norm = np.zeros((len(classes),len(classes)))\n",
    "# for i in np.arange(0,len(classes)):\n",
    "#     cf_matrix_norm[i,:] = cf_matrix[i,:]/sum(cf_matrix[i,:])\n",
    "\n",
    "# df_cm = pd.DataFrame(cf_matrix_norm, index = [i for i in classes],\n",
    "#                      columns = [i for i in classes])\n",
    "# plt.figure(figsize = (6,5))\n",
    "# hm = sn.heatmap(df_cm, annot=True)\n",
    "# hm.set(xlabel='\\n\\nPrediction', ylabel='Label\\n\\n')\n",
    "# plt.savefig('output.png')"
   ]
  },
  {
   "cell_type": "code",
   "execution_count": null,
   "id": "2915cc28",
   "metadata": {},
   "outputs": [],
   "source": [
    "# Graph accuracy for training and validation\n",
    "\n",
    "import matplotlib.pyplot as plt\n",
    "plt.plot(PerformanceDF['Epoch'], PerformanceDF['TrainAcc'])\n",
    "plt.plot(PerformanceDF['Epoch'], PerformanceDF['ValAcc'])\n",
    "plt.xlabel('Epoch')\n",
    "plt.ylabel('Accuracy')\n",
    "plt.legend(['Training', 'Validation'], loc='upper left')\n",
    "\n",
    "plt.show()"
   ]
  },
  {
   "cell_type": "code",
   "execution_count": null,
   "id": "56f6f835",
   "metadata": {},
   "outputs": [],
   "source": [
    "# Validate Orientation of Confusion Matrix\n",
    "#     Data labels go down the rows and predictions label the columns\n",
    "\n",
    "# Print Confusion Matrix Row Sums\n",
    "ConfusionMatrix_RowSums = [sum(cf_matrix[i,:]) for i in np.arange(0,len(unique_label_array))]\n",
    "print(ConfusionMatrix_RowSums)\n",
    "\n",
    "# Print Quantity of Items with each label\n",
    "ValDF_UniqueLabelSums = [sum(validation.iloc[:,1]==unique_label_array[i]) for i in np.arange(0,len(unique_label_array))]\n",
    "print(ValDF_UniqueLabelSums)"
   ]
  },
  {
   "cell_type": "code",
   "execution_count": null,
   "id": "8ed69ce0",
   "metadata": {},
   "outputs": [],
   "source": []
  },
  {
   "cell_type": "code",
   "execution_count": null,
   "id": "79cbdcf7",
   "metadata": {},
   "outputs": [],
   "source": []
  },
  {
   "cell_type": "code",
   "execution_count": null,
   "id": "81c45c56",
   "metadata": {},
   "outputs": [],
   "source": []
  }
 ],
 "metadata": {
  "kernelspec": {
   "display_name": "Python 3 (ipykernel)",
   "language": "python",
   "name": "python3"
  },
  "language_info": {
   "codemirror_mode": {
    "name": "ipython",
    "version": 3
   },
   "file_extension": ".py",
   "mimetype": "text/x-python",
   "name": "python",
   "nbconvert_exporter": "python",
   "pygments_lexer": "ipython3",
   "version": "3.11.3"
  }
 },
 "nbformat": 4,
 "nbformat_minor": 5
}
