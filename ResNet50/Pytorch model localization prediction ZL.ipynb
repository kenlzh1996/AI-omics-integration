{
 "cells": [
  {
   "cell_type": "code",
   "execution_count": 1,
   "id": "df14cee1",
   "metadata": {},
   "outputs": [],
   "source": [
    "# Import packages\n",
    "import re\n",
    "from pathlib import Path\n",
    "import numpy as np\n",
    "import pandas as pd\n",
    "import os\n",
    "from pdb import set_trace\n",
    "import matplotlib.pyplot as plt\n",
    "import PIL #for images\n",
    "import copy\n",
    "\n",
    "from sklearn.model_selection import train_test_split\n",
    "from sklearn.utils.class_weight import compute_sample_weight\n",
    "\n",
    "import torch\n",
    "from torch import nn\n",
    "from torch.utils.data import Dataset\n",
    "from torch.utils.data import DataLoader\n",
    "from torchvision.io import read_image\n",
    "from torchvision import models, transforms"
   ]
  },
  {
   "cell_type": "markdown",
   "id": "958310b8",
   "metadata": {},
   "source": [
    "### Values set up"
   ]
  },
  {
   "cell_type": "code",
   "execution_count": 2,
   "id": "383b556f",
   "metadata": {},
   "outputs": [],
   "source": [
    "#Specifications\n",
    "dataset_path = '/home/ec2-user/MLNotebooks/Datasets/'\n",
    "image_path = '/home/ec2-user/MLNotebooks/ResNet50/'\n",
    "# Data splitting and path\n",
    "label_filepath = Path(dataset_path+'SubCellBarcode.MCF7.0622.txt')\n",
    "image_folderpath = Path(image_path+'All_24by24Grid_dropna')\n",
    "validation_fraction = 0.2\n",
    "\n",
    "# Model weight\n",
    "ModelWeightSpefication = 'random'\n",
    "\n",
    "if ModelWeightSpefication == 'random':\n",
    "    ModelWeights = None\n",
    "if ModelWeightSpefication == 'pretrained':\n",
    "    ModelWeights = models.resnet50.DEFAULT # it is the best available weight for resnet50 \n",
    "    \n",
    "# Optimizer\n",
    "Weight_Decay = 0.0 # L2 regulator \n",
    "#  penalizes for too many weights - helps prevent overfitting\n",
    "# 0.0001  or 0.001 gives higher acc\n",
    "\n",
    "Momentum = 0.9\n",
    "#  a way to smooth noise that is passed to the optimizer, 0.9\n",
    "#  momentum is deterimental without label smoothing\n",
    "\n",
    "Learner_rate = 1e-3\n",
    "# was trying 5e-4\n",
    "\n",
    "# Loss Function\n",
    "Label_Smoothing = 0.1\n",
    "#  was 0.1\n",
    "#  sets the target of the loss function to something greater than 0 and less than 1\n",
    "#  helps prevent overfitting\n",
    "\n",
    "TransformOrNot = False\n",
    "\n",
    "ApplyClassWeightToLoss = False\n",
    "# Makes the loss weights equal to the fraction of each category label\n",
    "# Note, a layer is added to the model so the outputs of the model are equal to the number of categories\n",
    "#     This seems like a bug becuase that should already be the case\n",
    "\n",
    "# Run the model\n",
    "epochs = 100"
   ]
  },
  {
   "cell_type": "markdown",
   "id": "6026e403",
   "metadata": {},
   "source": [
    "### Device set up"
   ]
  },
  {
   "cell_type": "code",
   "execution_count": 3,
   "id": "d5d24e33",
   "metadata": {},
   "outputs": [
    {
     "name": "stdout",
     "output_type": "stream",
     "text": [
      "Using device: cuda\n",
      "Is cuda available?: True\n",
      "cuda version: 11.7\n"
     ]
    }
   ],
   "source": [
    "# Check to see if the GPU is available and store it as a variable so tensors can be moved to it\n",
    "device = torch.device('cuda' if torch.cuda.is_available() else 'cpu')\n",
    "print('Using device:', device)\n",
    "print('Is cuda available?:', torch.cuda.is_available())\n",
    "print('cuda version:', torch.version.cuda)\n",
    "dev = \"cuda:0\""
   ]
  },
  {
   "cell_type": "markdown",
   "id": "42e69732",
   "metadata": {},
   "source": [
    "### Transformation set up"
   ]
  },
  {
   "cell_type": "code",
   "execution_count": 4,
   "id": "69482cc1",
   "metadata": {},
   "outputs": [],
   "source": [
    "# Transformation\n",
    "# transforms = transforms.Normalize(mean=[0.485, 0.456, 0.406], std=[0.229, 0.224, 0.225])"
   ]
  },
  {
   "cell_type": "markdown",
   "id": "c15fa12b",
   "metadata": {},
   "source": [
    "### Custom image dataset set up"
   ]
  },
  {
   "cell_type": "code",
   "execution_count": 5,
   "id": "9414395c",
   "metadata": {},
   "outputs": [],
   "source": [
    "# Create the CustomImageDataset class from the parent Dataset class\n",
    "class CustomImageDataset(Dataset):\n",
    "    def __init__(self, input_df, img_dir, transform=None, target_transform=None, image_extension='.png'):\n",
    "        self.img_labels = input_df\n",
    "        self.img_dir = img_dir\n",
    "        self.transform = transform\n",
    "        self.target_transform = target_transform\n",
    "        self.image_extension = image_extension\n",
    "\n",
    "    def __len__(self):\n",
    "        return len(self.img_labels)\n",
    "\n",
    "    def __getitem__(self, idx):\n",
    "        img_path = os.path.join(self.img_dir, self.img_labels.iloc[idx, 0] + self.image_extension)\n",
    "        image = read_image(img_path)\n",
    "        #image = image.float()\n",
    "        label = self.img_labels.iloc[idx, 1]\n",
    "        if self.transform:\n",
    "            image = self.transform(image)\n",
    "        if self.target_transform:\n",
    "            label = self.target_transform(label)\n",
    "            \n",
    "        return image, label"
   ]
  },
  {
   "cell_type": "markdown",
   "id": "704b6de2",
   "metadata": {},
   "source": [
    "### Training/Validation datasets set up"
   ]
  },
  {
   "cell_type": "code",
   "execution_count": 6,
   "id": "0b68d3b5",
   "metadata": {},
   "outputs": [],
   "source": [
    "# Create a function to output training and validation annotation data frames from a single annotations file\n",
    "def GetTrainValAnnotDataFrames(labels, img_dir, val_frac):\n",
    "    # Inputs:\n",
    "    # labels: a directory to an comma separated file with image filenames (no extention, so gene name) and their labels\n",
    "    # img_dir: a directory to the folder containing the image files\n",
    "    # val_frac: the fraction of samples used for validation\n",
    "    \n",
    "    # read the csv file with the sample annotations\n",
    "    labels_df = pd.read_csv(labels, header=None, sep='\\t', dtype=str)\n",
    "    \n",
    "    # read the directory containing the images to get a list of filenames\n",
    "    #     strip the file extension so the filenames match the gene name in labels_df\n",
    "    image_list = [file for file in os.listdir(img_dir) if not file.startswith('.')] # take care of hidden files\n",
    "    gene_list = [os.path.splitext(file)[0] for file in image_list]  \n",
    "    \n",
    "    # remove entries in the labels_df that are not in the list of images\n",
    "    #     this is done so that the training and validation sets are divided correctly\n",
    "    common_indices = [item in gene_list for item in labels_df.iloc[:,0]]\n",
    "    labels_df = labels_df.loc[common_indices,:]\n",
    "    \n",
    "    # extract unique class label into an array\n",
    "    unique_labels = np.unique(labels_df.iloc[:,1])\n",
    "    \n",
    "    # split into training and validation set\n",
    "    train_df, valid_df = train_test_split(labels_df, test_size=val_frac, random_state=42)\n",
    "    \n",
    "    print(f\"Total labels: {len(labels_df)}\")\n",
    "    print(f\"Total genes in training are {len(train_df)}; in validation are {len(valid_df)}; sum is {len(train_df)+len(valid_df)}\")\n",
    "    print(f\"Unique labels: {unique_labels}\")\n",
    "    \n",
    "    return train_df, valid_df, unique_labels"
   ]
  },
  {
   "cell_type": "markdown",
   "id": "4fe9deb7",
   "metadata": {},
   "source": [
    "### Show image and label to tensor set up"
   ]
  },
  {
   "cell_type": "code",
   "execution_count": 7,
   "id": "46bb5a40",
   "metadata": {},
   "outputs": [],
   "source": [
    "# Function to convert a torchvision tensor to the default format for matplotlib\n",
    "    # matplotlib.pyplot.imshow interprets an RGB vector as shape (N,M,3) \n",
    "    # torchvision.io.read_image reads an RGB image as shape (3,N,M)\n",
    "def ShowTorchvisionImage(ImageTensor):\n",
    "    ImageTensor_t1 = ImageTensor.transpose(1,2)\n",
    "    ImageTensor_t2 = ImageTensor_t1.transpose(0,2)\n",
    "    plt.imshow(ImageTensor_t2)\n",
    "    \n",
    "# Function to convert label numpy array to label tensor    \n",
    "def LabelArray_to_Tensor(input_array,labels_unique):\n",
    "    # converts a label array of strings to a tensor of floats\n",
    "    # Inputs:\n",
    "    #   input_array: the array of strings that are labels\n",
    "    #   labels_unique: an ordered list of the unique labels possible for the data set\n",
    "    # Outputs:\n",
    "    #   output_tensor: a tensor of floats, one unique float corresponding to each label\n",
    "    \n",
    "    int_label = np.arange(0,len(labels_unique))\n",
    "    i = 0\n",
    "    for label in labels_unique:\n",
    "        indices = [label == item for item in input_array]\n",
    "        input_array[indices] = int_label[i]\n",
    "        i = i+1\n",
    "\n",
    "    input_array = input_array.astype(float)\n",
    "    output_tensor = torch.as_tensor(input_array)\n",
    "    output_tensor = output_tensor.long()\n",
    "  \n",
    "    return(output_tensor)"
   ]
  },
  {
   "cell_type": "markdown",
   "id": "3109d1f6",
   "metadata": {},
   "source": [
    "### Training and testing epoch loop set up"
   ]
  },
  {
   "cell_type": "code",
   "execution_count": 8,
   "id": "663d6448",
   "metadata": {},
   "outputs": [],
   "source": [
    "# Function for training the weights of the model\n",
    "def train_loop(dataloader, model, loss_fn, optimizer):\n",
    "    size = len(dataloader.dataset)\n",
    "    for batch, (X, y) in enumerate(dataloader):\n",
    "        # Compute prediction and loss\n",
    "\n",
    "        X = X.to(torch.float32) # convert to float32 to avoid error stating byte expected but found float\n",
    "        X = X.to(dev)\n",
    "        pred = model(X) # predict classes using images from the training set\n",
    "        \n",
    "        # convert the labels into a tensor of intigers and compute the loss\n",
    "        y = np.asarray(y)\n",
    "        y = LabelArray_to_Tensor(y,unique_label_array)\n",
    "        y = y.to(dev)\n",
    "        loss = loss_fn(pred, y) # compute the loss based on model output and real labels\n",
    "\n",
    "        # Backpropagation\n",
    "        optimizer.zero_grad() # zero the parameter gradients \n",
    "        loss.backward() # backpropagate the loss\n",
    "        optimizer.step() # adjust parameters based on the calculated gradients\n",
    "             \n",
    "\n",
    "    loss = loss.item() # extract the loss value\n",
    "    \n",
    "    return(loss)\n",
    "            \n",
    "# Function for validating the weights of the model\n",
    "def test_loop(dataloader, model, loss_fn):\n",
    "    size = len(dataloader.dataset)\n",
    "    num_batches = len(dataloader)\n",
    "    test_loss, correct = 0, 0\n",
    "\n",
    "    with torch.no_grad():\n",
    "        for X, y in dataloader:\n",
    "            \n",
    "            # convert to float32 to avoid error stating byte expected but found float\n",
    "            X = X.to(torch.float32)\n",
    "            X = X.to(dev)\n",
    "            pred = model(X)\n",
    "            \n",
    "            # convert the labels into a tensor of intigers and compute the loss\n",
    "            y = np.asarray(y)\n",
    "            y = LabelArray_to_Tensor(y,unique_label_array)\n",
    "            y = y.to(dev)\n",
    "            test_loss += loss_fn(pred, y).item()\n",
    "            correct += (pred.argmax(1) == y).type(torch.float).sum().item()\n",
    "\n",
    "    test_loss /= num_batches\n",
    "    correct /= size\n",
    "    \n",
    "    return(test_loss,correct)"
   ]
  },
  {
   "cell_type": "markdown",
   "id": "052c2cb7",
   "metadata": {},
   "source": [
    "### Pretrained model set up"
   ]
  },
  {
   "cell_type": "code",
   "execution_count": 9,
   "id": "d882c137",
   "metadata": {},
   "outputs": [
    {
     "data": {
      "text/plain": [
       "<bound method Module.parameters of ResNet(\n",
       "  (conv1): Conv2d(3, 64, kernel_size=(7, 7), stride=(2, 2), padding=(3, 3), bias=False)\n",
       "  (bn1): BatchNorm2d(64, eps=1e-05, momentum=0.1, affine=True, track_running_stats=True)\n",
       "  (relu): ReLU(inplace=True)\n",
       "  (maxpool): MaxPool2d(kernel_size=3, stride=2, padding=1, dilation=1, ceil_mode=False)\n",
       "  (layer1): Sequential(\n",
       "    (0): Bottleneck(\n",
       "      (conv1): Conv2d(64, 64, kernel_size=(1, 1), stride=(1, 1), bias=False)\n",
       "      (bn1): BatchNorm2d(64, eps=1e-05, momentum=0.1, affine=True, track_running_stats=True)\n",
       "      (conv2): Conv2d(64, 64, kernel_size=(3, 3), stride=(1, 1), padding=(1, 1), bias=False)\n",
       "      (bn2): BatchNorm2d(64, eps=1e-05, momentum=0.1, affine=True, track_running_stats=True)\n",
       "      (conv3): Conv2d(64, 256, kernel_size=(1, 1), stride=(1, 1), bias=False)\n",
       "      (bn3): BatchNorm2d(256, eps=1e-05, momentum=0.1, affine=True, track_running_stats=True)\n",
       "      (relu): ReLU(inplace=True)\n",
       "      (downsample): Sequential(\n",
       "        (0): Conv2d(64, 256, kernel_size=(1, 1), stride=(1, 1), bias=False)\n",
       "        (1): BatchNorm2d(256, eps=1e-05, momentum=0.1, affine=True, track_running_stats=True)\n",
       "      )\n",
       "    )\n",
       "    (1): Bottleneck(\n",
       "      (conv1): Conv2d(256, 64, kernel_size=(1, 1), stride=(1, 1), bias=False)\n",
       "      (bn1): BatchNorm2d(64, eps=1e-05, momentum=0.1, affine=True, track_running_stats=True)\n",
       "      (conv2): Conv2d(64, 64, kernel_size=(3, 3), stride=(1, 1), padding=(1, 1), bias=False)\n",
       "      (bn2): BatchNorm2d(64, eps=1e-05, momentum=0.1, affine=True, track_running_stats=True)\n",
       "      (conv3): Conv2d(64, 256, kernel_size=(1, 1), stride=(1, 1), bias=False)\n",
       "      (bn3): BatchNorm2d(256, eps=1e-05, momentum=0.1, affine=True, track_running_stats=True)\n",
       "      (relu): ReLU(inplace=True)\n",
       "    )\n",
       "    (2): Bottleneck(\n",
       "      (conv1): Conv2d(256, 64, kernel_size=(1, 1), stride=(1, 1), bias=False)\n",
       "      (bn1): BatchNorm2d(64, eps=1e-05, momentum=0.1, affine=True, track_running_stats=True)\n",
       "      (conv2): Conv2d(64, 64, kernel_size=(3, 3), stride=(1, 1), padding=(1, 1), bias=False)\n",
       "      (bn2): BatchNorm2d(64, eps=1e-05, momentum=0.1, affine=True, track_running_stats=True)\n",
       "      (conv3): Conv2d(64, 256, kernel_size=(1, 1), stride=(1, 1), bias=False)\n",
       "      (bn3): BatchNorm2d(256, eps=1e-05, momentum=0.1, affine=True, track_running_stats=True)\n",
       "      (relu): ReLU(inplace=True)\n",
       "    )\n",
       "  )\n",
       "  (layer2): Sequential(\n",
       "    (0): Bottleneck(\n",
       "      (conv1): Conv2d(256, 128, kernel_size=(1, 1), stride=(1, 1), bias=False)\n",
       "      (bn1): BatchNorm2d(128, eps=1e-05, momentum=0.1, affine=True, track_running_stats=True)\n",
       "      (conv2): Conv2d(128, 128, kernel_size=(3, 3), stride=(2, 2), padding=(1, 1), bias=False)\n",
       "      (bn2): BatchNorm2d(128, eps=1e-05, momentum=0.1, affine=True, track_running_stats=True)\n",
       "      (conv3): Conv2d(128, 512, kernel_size=(1, 1), stride=(1, 1), bias=False)\n",
       "      (bn3): BatchNorm2d(512, eps=1e-05, momentum=0.1, affine=True, track_running_stats=True)\n",
       "      (relu): ReLU(inplace=True)\n",
       "      (downsample): Sequential(\n",
       "        (0): Conv2d(256, 512, kernel_size=(1, 1), stride=(2, 2), bias=False)\n",
       "        (1): BatchNorm2d(512, eps=1e-05, momentum=0.1, affine=True, track_running_stats=True)\n",
       "      )\n",
       "    )\n",
       "    (1): Bottleneck(\n",
       "      (conv1): Conv2d(512, 128, kernel_size=(1, 1), stride=(1, 1), bias=False)\n",
       "      (bn1): BatchNorm2d(128, eps=1e-05, momentum=0.1, affine=True, track_running_stats=True)\n",
       "      (conv2): Conv2d(128, 128, kernel_size=(3, 3), stride=(1, 1), padding=(1, 1), bias=False)\n",
       "      (bn2): BatchNorm2d(128, eps=1e-05, momentum=0.1, affine=True, track_running_stats=True)\n",
       "      (conv3): Conv2d(128, 512, kernel_size=(1, 1), stride=(1, 1), bias=False)\n",
       "      (bn3): BatchNorm2d(512, eps=1e-05, momentum=0.1, affine=True, track_running_stats=True)\n",
       "      (relu): ReLU(inplace=True)\n",
       "    )\n",
       "    (2): Bottleneck(\n",
       "      (conv1): Conv2d(512, 128, kernel_size=(1, 1), stride=(1, 1), bias=False)\n",
       "      (bn1): BatchNorm2d(128, eps=1e-05, momentum=0.1, affine=True, track_running_stats=True)\n",
       "      (conv2): Conv2d(128, 128, kernel_size=(3, 3), stride=(1, 1), padding=(1, 1), bias=False)\n",
       "      (bn2): BatchNorm2d(128, eps=1e-05, momentum=0.1, affine=True, track_running_stats=True)\n",
       "      (conv3): Conv2d(128, 512, kernel_size=(1, 1), stride=(1, 1), bias=False)\n",
       "      (bn3): BatchNorm2d(512, eps=1e-05, momentum=0.1, affine=True, track_running_stats=True)\n",
       "      (relu): ReLU(inplace=True)\n",
       "    )\n",
       "    (3): Bottleneck(\n",
       "      (conv1): Conv2d(512, 128, kernel_size=(1, 1), stride=(1, 1), bias=False)\n",
       "      (bn1): BatchNorm2d(128, eps=1e-05, momentum=0.1, affine=True, track_running_stats=True)\n",
       "      (conv2): Conv2d(128, 128, kernel_size=(3, 3), stride=(1, 1), padding=(1, 1), bias=False)\n",
       "      (bn2): BatchNorm2d(128, eps=1e-05, momentum=0.1, affine=True, track_running_stats=True)\n",
       "      (conv3): Conv2d(128, 512, kernel_size=(1, 1), stride=(1, 1), bias=False)\n",
       "      (bn3): BatchNorm2d(512, eps=1e-05, momentum=0.1, affine=True, track_running_stats=True)\n",
       "      (relu): ReLU(inplace=True)\n",
       "    )\n",
       "  )\n",
       "  (layer3): Sequential(\n",
       "    (0): Bottleneck(\n",
       "      (conv1): Conv2d(512, 256, kernel_size=(1, 1), stride=(1, 1), bias=False)\n",
       "      (bn1): BatchNorm2d(256, eps=1e-05, momentum=0.1, affine=True, track_running_stats=True)\n",
       "      (conv2): Conv2d(256, 256, kernel_size=(3, 3), stride=(2, 2), padding=(1, 1), bias=False)\n",
       "      (bn2): BatchNorm2d(256, eps=1e-05, momentum=0.1, affine=True, track_running_stats=True)\n",
       "      (conv3): Conv2d(256, 1024, kernel_size=(1, 1), stride=(1, 1), bias=False)\n",
       "      (bn3): BatchNorm2d(1024, eps=1e-05, momentum=0.1, affine=True, track_running_stats=True)\n",
       "      (relu): ReLU(inplace=True)\n",
       "      (downsample): Sequential(\n",
       "        (0): Conv2d(512, 1024, kernel_size=(1, 1), stride=(2, 2), bias=False)\n",
       "        (1): BatchNorm2d(1024, eps=1e-05, momentum=0.1, affine=True, track_running_stats=True)\n",
       "      )\n",
       "    )\n",
       "    (1): Bottleneck(\n",
       "      (conv1): Conv2d(1024, 256, kernel_size=(1, 1), stride=(1, 1), bias=False)\n",
       "      (bn1): BatchNorm2d(256, eps=1e-05, momentum=0.1, affine=True, track_running_stats=True)\n",
       "      (conv2): Conv2d(256, 256, kernel_size=(3, 3), stride=(1, 1), padding=(1, 1), bias=False)\n",
       "      (bn2): BatchNorm2d(256, eps=1e-05, momentum=0.1, affine=True, track_running_stats=True)\n",
       "      (conv3): Conv2d(256, 1024, kernel_size=(1, 1), stride=(1, 1), bias=False)\n",
       "      (bn3): BatchNorm2d(1024, eps=1e-05, momentum=0.1, affine=True, track_running_stats=True)\n",
       "      (relu): ReLU(inplace=True)\n",
       "    )\n",
       "    (2): Bottleneck(\n",
       "      (conv1): Conv2d(1024, 256, kernel_size=(1, 1), stride=(1, 1), bias=False)\n",
       "      (bn1): BatchNorm2d(256, eps=1e-05, momentum=0.1, affine=True, track_running_stats=True)\n",
       "      (conv2): Conv2d(256, 256, kernel_size=(3, 3), stride=(1, 1), padding=(1, 1), bias=False)\n",
       "      (bn2): BatchNorm2d(256, eps=1e-05, momentum=0.1, affine=True, track_running_stats=True)\n",
       "      (conv3): Conv2d(256, 1024, kernel_size=(1, 1), stride=(1, 1), bias=False)\n",
       "      (bn3): BatchNorm2d(1024, eps=1e-05, momentum=0.1, affine=True, track_running_stats=True)\n",
       "      (relu): ReLU(inplace=True)\n",
       "    )\n",
       "    (3): Bottleneck(\n",
       "      (conv1): Conv2d(1024, 256, kernel_size=(1, 1), stride=(1, 1), bias=False)\n",
       "      (bn1): BatchNorm2d(256, eps=1e-05, momentum=0.1, affine=True, track_running_stats=True)\n",
       "      (conv2): Conv2d(256, 256, kernel_size=(3, 3), stride=(1, 1), padding=(1, 1), bias=False)\n",
       "      (bn2): BatchNorm2d(256, eps=1e-05, momentum=0.1, affine=True, track_running_stats=True)\n",
       "      (conv3): Conv2d(256, 1024, kernel_size=(1, 1), stride=(1, 1), bias=False)\n",
       "      (bn3): BatchNorm2d(1024, eps=1e-05, momentum=0.1, affine=True, track_running_stats=True)\n",
       "      (relu): ReLU(inplace=True)\n",
       "    )\n",
       "    (4): Bottleneck(\n",
       "      (conv1): Conv2d(1024, 256, kernel_size=(1, 1), stride=(1, 1), bias=False)\n",
       "      (bn1): BatchNorm2d(256, eps=1e-05, momentum=0.1, affine=True, track_running_stats=True)\n",
       "      (conv2): Conv2d(256, 256, kernel_size=(3, 3), stride=(1, 1), padding=(1, 1), bias=False)\n",
       "      (bn2): BatchNorm2d(256, eps=1e-05, momentum=0.1, affine=True, track_running_stats=True)\n",
       "      (conv3): Conv2d(256, 1024, kernel_size=(1, 1), stride=(1, 1), bias=False)\n",
       "      (bn3): BatchNorm2d(1024, eps=1e-05, momentum=0.1, affine=True, track_running_stats=True)\n",
       "      (relu): ReLU(inplace=True)\n",
       "    )\n",
       "    (5): Bottleneck(\n",
       "      (conv1): Conv2d(1024, 256, kernel_size=(1, 1), stride=(1, 1), bias=False)\n",
       "      (bn1): BatchNorm2d(256, eps=1e-05, momentum=0.1, affine=True, track_running_stats=True)\n",
       "      (conv2): Conv2d(256, 256, kernel_size=(3, 3), stride=(1, 1), padding=(1, 1), bias=False)\n",
       "      (bn2): BatchNorm2d(256, eps=1e-05, momentum=0.1, affine=True, track_running_stats=True)\n",
       "      (conv3): Conv2d(256, 1024, kernel_size=(1, 1), stride=(1, 1), bias=False)\n",
       "      (bn3): BatchNorm2d(1024, eps=1e-05, momentum=0.1, affine=True, track_running_stats=True)\n",
       "      (relu): ReLU(inplace=True)\n",
       "    )\n",
       "  )\n",
       "  (layer4): Sequential(\n",
       "    (0): Bottleneck(\n",
       "      (conv1): Conv2d(1024, 512, kernel_size=(1, 1), stride=(1, 1), bias=False)\n",
       "      (bn1): BatchNorm2d(512, eps=1e-05, momentum=0.1, affine=True, track_running_stats=True)\n",
       "      (conv2): Conv2d(512, 512, kernel_size=(3, 3), stride=(2, 2), padding=(1, 1), bias=False)\n",
       "      (bn2): BatchNorm2d(512, eps=1e-05, momentum=0.1, affine=True, track_running_stats=True)\n",
       "      (conv3): Conv2d(512, 2048, kernel_size=(1, 1), stride=(1, 1), bias=False)\n",
       "      (bn3): BatchNorm2d(2048, eps=1e-05, momentum=0.1, affine=True, track_running_stats=True)\n",
       "      (relu): ReLU(inplace=True)\n",
       "      (downsample): Sequential(\n",
       "        (0): Conv2d(1024, 2048, kernel_size=(1, 1), stride=(2, 2), bias=False)\n",
       "        (1): BatchNorm2d(2048, eps=1e-05, momentum=0.1, affine=True, track_running_stats=True)\n",
       "      )\n",
       "    )\n",
       "    (1): Bottleneck(\n",
       "      (conv1): Conv2d(2048, 512, kernel_size=(1, 1), stride=(1, 1), bias=False)\n",
       "      (bn1): BatchNorm2d(512, eps=1e-05, momentum=0.1, affine=True, track_running_stats=True)\n",
       "      (conv2): Conv2d(512, 512, kernel_size=(3, 3), stride=(1, 1), padding=(1, 1), bias=False)\n",
       "      (bn2): BatchNorm2d(512, eps=1e-05, momentum=0.1, affine=True, track_running_stats=True)\n",
       "      (conv3): Conv2d(512, 2048, kernel_size=(1, 1), stride=(1, 1), bias=False)\n",
       "      (bn3): BatchNorm2d(2048, eps=1e-05, momentum=0.1, affine=True, track_running_stats=True)\n",
       "      (relu): ReLU(inplace=True)\n",
       "    )\n",
       "    (2): Bottleneck(\n",
       "      (conv1): Conv2d(2048, 512, kernel_size=(1, 1), stride=(1, 1), bias=False)\n",
       "      (bn1): BatchNorm2d(512, eps=1e-05, momentum=0.1, affine=True, track_running_stats=True)\n",
       "      (conv2): Conv2d(512, 512, kernel_size=(3, 3), stride=(1, 1), padding=(1, 1), bias=False)\n",
       "      (bn2): BatchNorm2d(512, eps=1e-05, momentum=0.1, affine=True, track_running_stats=True)\n",
       "      (conv3): Conv2d(512, 2048, kernel_size=(1, 1), stride=(1, 1), bias=False)\n",
       "      (bn3): BatchNorm2d(2048, eps=1e-05, momentum=0.1, affine=True, track_running_stats=True)\n",
       "      (relu): ReLU(inplace=True)\n",
       "    )\n",
       "  )\n",
       "  (avgpool): AdaptiveAvgPool2d(output_size=(1, 1))\n",
       "  (fc): Linear(in_features=2048, out_features=4, bias=True)\n",
       ")>"
      ]
     },
     "execution_count": 9,
     "metadata": {},
     "output_type": "execute_result"
    }
   ],
   "source": [
    "# Define the model (pretrained)\n",
    "\n",
    "# initial model weights\n",
    "# model = models.resnet50(weights=ModelWeights)\n",
    "model = models.resnet50(weights=None) # without initial weights defined - good for patients not re-arranged\n",
    "model.fc.out_features = 4\n",
    "\n",
    "# Update the out channels to match with number of class in our data\n",
    "if ApplyClassWeightToLoss:\n",
    "    model = models.resnet50()\n",
    "    model.fc.out_features = 4\n",
    "    \n",
    "#     for p in model.parameters(): # Freeze all parameters in the network\n",
    "#         p.requires_grad = False\n",
    "    \n",
    "#     for p in model.classifier.parameters(): # Make classification layer trainable\n",
    "#         p.requires_grad = True \n",
    "        \n",
    "#     for p in model.features[-1].parameters(): # retrain the last layers [-3:-1] mean last three layers\n",
    "#         p.requires_grad = True\n",
    "    \n",
    "model = model.to(dev)\n",
    "\n",
    "# see the model architecture if desired\n",
    "model.parameters"
   ]
  },
  {
   "cell_type": "markdown",
   "id": "62d201c4",
   "metadata": {},
   "source": [
    "### Loss function and unbalanced class weight set up"
   ]
  },
  {
   "cell_type": "code",
   "execution_count": 10,
   "id": "b5baf7a4",
   "metadata": {},
   "outputs": [],
   "source": [
    "# Define the loss function\n",
    "# This needs to be made general for the number of classes\n",
    "\n",
    "# funciton call\n",
    "# training, validation, unique_label_array = GetTrainValAnnotDataFrames(labels=label_filepath, img_dir=image_folderpath, val_frac=validation_fraction)\n",
    "\n",
    "# Wrap data into the custom pytorch dataset class\n",
    "# if TransformOrNot:\n",
    "#     TrainingData = CustomImageDataset(input_df=training,img_dir=image_folderpath, transform=transforms)\n",
    "#     ValidationData = CustomImageDataset(input_df=validation,img_dir=image_folderpath, transform=transforms)\n",
    "# else:\n",
    "#     TrainingData = CustomImageDataset(input_df=training,img_dir=image_folderpath)\n",
    "#     ValidationData = CustomImageDataset(input_df=validation,img_dir=image_folderpath)\n",
    "    \n",
    "# loss function\n",
    "\n",
    "if ApplyClassWeightToLoss:\n",
    "    # Nate's weight tensor([ 2.2273, 13.4550,  3.5913,  5.0439]\n",
    "    # Weights for each class for loss function\n",
    "#     n_cytosol = float(sum(TrainingData.img_labels.iloc[:,1]=='Cytosol'))\n",
    "#     n_mitochondria = float(sum(TrainingData.img_labels.iloc[:,1]=='Mitochondria'))\n",
    "#     n_nuclear = float(sum(TrainingData.img_labels.iloc[:,1]=='Nuclear'))\n",
    "#     n_secretory = float(sum(TrainingData.img_labels.iloc[:,1]=='Secretory'))\n",
    "#     n_total = len(TrainingData.img_labels.iloc[:,1])\n",
    "    \n",
    "    # zhuoheng's weight\n",
    "    # train_weight = compute_sample_weight('balanced', y=train_labels)\n",
    "    LossWeights = torch.tensor([0.59259259,5.33333333,0.84210526,1.06666667]).to(device)\n",
    "    loss_fn = nn.CrossEntropyLoss(label_smoothing=Label_Smoothing)\n",
    "\n",
    "else:\n",
    "    loss_fn = nn.CrossEntropyLoss(label_smoothing=Label_Smoothing)\n",
    "    \n",
    "# https://medium.com/@zergtant/use-weighted-loss-function-to-solve-imbalanced-data-classification-problems-749237f38b75"
   ]
  },
  {
   "cell_type": "markdown",
   "id": "293cdeb0",
   "metadata": {},
   "source": [
    "### Optimizer set up"
   ]
  },
  {
   "cell_type": "code",
   "execution_count": 11,
   "id": "e3af4dda",
   "metadata": {},
   "outputs": [],
   "source": [
    "# Define the optimizer\n",
    "def Optimizer(name, model):\n",
    "    if name == 'SGD_weight':\n",
    "        optimizer = torch.optim.SGD(model.parameters(), lr=Learner_rate, weight_decay=Weight_Decay, momentum=Momentum)\n",
    "    if name == 'SGD_default':\n",
    "        optimizer = torch.optim.SGD(model.parameters(), lr=Learner_rate)\n",
    "    if name == 'Adam':\n",
    "        optimizer = torch.optim.Adam(model.parameters(), lr=Learner_rate, weight_decay=Weight_Decay)\n",
    "        \n",
    "    return optimizer"
   ]
  },
  {
   "cell_type": "markdown",
   "id": "e36bdc13",
   "metadata": {},
   "source": [
    "### Early stopping set up"
   ]
  },
  {
   "cell_type": "code",
   "execution_count": 12,
   "id": "f4869dd0",
   "metadata": {},
   "outputs": [],
   "source": [
    "# criterion = torch.optim.lr_scheduler.ReduceLROnPlateau(monitor='val_loss', patience=5)"
   ]
  },
  {
   "cell_type": "markdown",
   "id": "32c4761e",
   "metadata": {},
   "source": [
    "### Actual training"
   ]
  },
  {
   "cell_type": "code",
   "execution_count": 13,
   "id": "f476c7ee",
   "metadata": {},
   "outputs": [
    {
     "name": "stdout",
     "output_type": "stream",
     "text": [
      "Total labels: 4791\n",
      "Total genes in training are 3832; in validation are 959; sum is 4791\n",
      "Unique labels: ['Cytosol' 'Mitochondria' 'Nuclear' 'Secretory']\n"
     ]
    }
   ],
   "source": [
    "# funciton call\n",
    "training, validation, unique_label_array = GetTrainValAnnotDataFrames(labels=label_filepath, img_dir=image_folderpath, val_frac=validation_fraction)"
   ]
  },
  {
   "cell_type": "code",
   "execution_count": 14,
   "id": "58bd97f9",
   "metadata": {},
   "outputs": [
    {
     "name": "stdout",
     "output_type": "stream",
     "text": [
      "Label: Cytosol\n"
     ]
    },
    {
     "data": {
      "image/png": "[encoded data removed]",
      "text/plain": [
       "<Figure size 640x480 with 1 Axes>"
      ]
     },
     "metadata": {},
     "output_type": "display_data"
    }
   ],
   "source": [
    "# Wrap data into the custom pytorch dataset class\n",
    "if TransformOrNot:\n",
    "    TrainingData = CustomImageDataset(input_df=training,img_dir=image_folderpath, transform=transforms)\n",
    "    ValidationData = CustomImageDataset(input_df=validation,img_dir=image_folderpath, transform=transforms)\n",
    "else:\n",
    "    TrainingData = CustomImageDataset(input_df=training,img_dir=image_folderpath)\n",
    "    ValidationData = CustomImageDataset(input_df=validation,img_dir=image_folderpath)\n",
    "\n",
    "# Define Data Loaders\n",
    "train_dataloader = DataLoader(TrainingData, batch_size=64, shuffle=True)\n",
    "val_dataloader = DataLoader(ValidationData, batch_size=64, shuffle=True)\n",
    "\n",
    "# Display a training image and its corresponding label.\n",
    "train_features, train_labels = next(iter(train_dataloader))\n",
    "img = train_features[0].squeeze() #no squeeze\n",
    "label = train_labels[0]\n",
    "ShowTorchvisionImage(img)\n",
    "print(f\"Label: {label}\")"
   ]
  },
  {
   "cell_type": "code",
   "execution_count": 15,
   "id": "1b7b6957",
   "metadata": {},
   "outputs": [
    {
     "name": "stdout",
     "output_type": "stream",
     "text": [
      "Epoch   Train Loss   Val Loss   Train Accuracy   Val Accuracy\n",
      "\n",
      "    0     1.900496   2.080489        0.623956      0.546403\n",
      "    1     1.850048   1.942605        0.733559      0.600626\n",
      "    2     1.649247   1.937866        0.813674      0.616267\n",
      "    3     1.555153   1.837314        0.887526      0.672576\n",
      "    4     1.504979   1.967479        0.893789      0.662148\n",
      "    5     1.226503   1.971104        0.927192      0.692388\n",
      "    6     1.207984   2.024194        0.944154      0.675704\n",
      "    7     1.409579   2.045826        0.943633      0.683003\n",
      "    8     1.189749   2.109497        0.952505      0.689260\n",
      "    9     1.145591   2.080943        0.954593      0.681960\n",
      "   10     1.344016   2.097722        0.963727      0.715328\n",
      "   11     1.212441   2.117236        0.961900      0.710115\n",
      "   12     1.080828   2.244226        0.968424      0.698644\n",
      "   13     1.209389   2.126235        0.968424      0.713243\n",
      "   14     1.120393   2.154479        0.977818      0.718457\n",
      "   15     1.321460   2.209804        0.970251      0.730970\n",
      "   16     1.277538   2.222827        0.967119      0.706986\n",
      "   17     1.071807   2.172471        0.978862      0.710115\n",
      "   18     1.062941   2.252933        0.984864      0.712200\n",
      "   19     1.080561   2.189711        0.981733      0.727842\n",
      "   20     1.207734   2.124538        0.977296      0.716371\n",
      "   21     1.057301   2.282513        0.973643      0.709072\n",
      "   22     1.191408   2.203088        0.965814      0.721585\n",
      "   23     1.084314   2.257590        0.975992      0.716371\n",
      "   24     1.293516   2.345443        0.979906      0.729927\n",
      "   25     1.131830   2.114843        0.985386      0.719499\n",
      "   26     1.085582   2.069006        0.983820      0.748697\n",
      "   27     1.220056   2.215731        0.983559      0.727842\n",
      "   28     1.054874   2.200603        0.983559      0.724713\n",
      "   29     1.063508   2.224461        0.980689      0.727842\n",
      "   30     1.088685   2.222095        0.984864      0.737226\n",
      "   31     1.107027   2.113712        0.977818      0.739312\n",
      "   32     1.031698   2.164189        0.986952      0.732013\n",
      "   33     1.108345   2.177776        0.992954      0.747654\n",
      "   34     1.080528   2.290679        0.984081      0.735141\n",
      "   35     1.148400   2.207126        0.986169      0.743483\n",
      "   36     1.043475   2.181244        0.987996      0.736184\n",
      "   37     1.037550   2.222230        0.990605      0.755996\n",
      "   38     1.150644   2.352922        0.982255      0.726799\n",
      "   39     1.066140   2.097234        0.978862      0.743483\n",
      "   40     1.062741   2.129016        0.986691      0.761210\n",
      "   41     1.191609   2.185782        0.983038      0.734098\n",
      "   42     1.038446   2.006186        0.980950      0.769552\n",
      "   43     1.045896   2.047621        0.993476      0.744526\n",
      "   44     1.036287   2.058833        0.987213      0.752868\n",
      "   45     1.026887   2.144917        0.990605      0.743483\n",
      "   46     1.049504   2.245588        0.980950      0.743483\n",
      "   47     1.068389   2.104679        0.991649      0.743483\n",
      "   48     1.088739   2.142257        0.982777      0.761210\n",
      "   49     1.241003   2.139185        0.983820      0.742440\n",
      "   50     1.096056   2.101259        0.982777      0.763295\n",
      "   51     1.030677   2.066741        0.980950      0.760167\n",
      "   52     1.046900   2.045936        0.990605      0.748697\n",
      "   53     1.086138   2.278199        0.992432      0.745568\n",
      "   54     1.090013   2.222956        0.989562      0.746611\n",
      "   55     1.064677   2.287666        0.979123      0.754953\n",
      "   56     1.097988   2.240941        0.985647      0.755996\n",
      "   57     1.276314   2.139364        0.981211      0.746611\n",
      "   58     1.056600   2.081781        0.992432      0.758081\n",
      "   59     1.030531   2.111049        0.997390      0.761210\n",
      "   60     1.023788   2.259553        0.991910      0.753910\n",
      "   61     1.069338   2.094771        0.989040      0.743483\n",
      "   62     1.139563   2.091280        0.989301      0.755996\n",
      "   63     1.041059   2.171506        0.991127      0.759124\n",
      "   64     1.021239   2.335795        0.993998      0.745568\n",
      "   65     1.053723   2.171075        0.992693      0.747654\n",
      "   66     1.147301   2.196535        0.989562      0.750782\n",
      "   67     1.072975   2.179117        0.986952      0.740355\n",
      "   68     1.047524   2.170026        0.989301      0.749739\n",
      "   69     1.087562   2.149979        0.991127      0.759124\n",
      "   70     1.055318   2.222595        0.987474      0.747654\n",
      "   71     1.038157   2.178541        0.991649      0.753910\n",
      "   72     1.051922   2.193603        0.990605      0.769552\n",
      "   73     1.021379   2.244853        0.994520      0.753910\n",
      "   74     1.156999   2.186669        0.989301      0.767466\n",
      "   75     1.041897   2.242296        0.994781      0.762252\n",
      "   76     1.032933   2.187965        0.990605      0.751825\n",
      "   77     1.046776   2.118038        0.990344      0.768509\n",
      "   78     1.095516   2.071265        0.992432      0.782065\n",
      "   79     1.040825   2.203317        0.988518      0.775808\n",
      "   80     1.218908   2.167523        0.988779      0.754953\n",
      "   81     1.056475   2.241376        0.992954      0.760167\n",
      "   82     1.024513   2.079841        0.994781      0.774765\n",
      "   83     1.038879   2.138171        0.984342      0.753910\n",
      "   84     1.073534   2.093345        0.989301      0.769552\n",
      "   85     1.037391   2.205074        0.996608      0.765381\n",
      "   86     1.152528   2.131079        0.992954      0.761210\n",
      "   87     1.071218   2.096531        0.993215      0.769552\n",
      "   88     1.048248   2.237860        0.995825      0.761210\n",
      "   89     1.038612   2.160232        0.996347      0.768509\n",
      "   90     1.023601   2.261952        0.997390      0.772680\n",
      "   91     1.020405   2.260924        0.994781      0.757039\n",
      "   92     1.059091   2.322131        0.993215      0.750782\n",
      "   93     1.026954   2.059720        0.992171      0.760167\n",
      "   94     1.120409   2.184066        0.986430      0.742440\n",
      "   95     1.036035   2.092534        0.993215      0.770594\n",
      "   96     1.134033   2.166596        0.994520      0.774765\n",
      "   97     1.143044   2.126029        0.991127      0.769552\n",
      "   98     1.075612   2.067928        0.993737      0.776851\n",
      "   99     1.028379   2.113766        0.994259      0.791449\n",
      "Done!\n"
     ]
    }
   ],
   "source": [
    "# Run the model\n",
    "\n",
    "# set up performance dataframe to record loss and accuracy of each epoch\n",
    "PerformanceDF = pd.DataFrame(index=range(epochs),columns=['Epoch','TrainLoss','ValLoss','TrainAcc','ValAcc'])\n",
    "print(f\"{'Epoch':>5s}{'Train Loss':>13s}{'Val Loss':>11s}{'Train Accuracy':>17s}{'Val Accuracy':>15s}\\n\")\n",
    "\n",
    "# call optimizer\n",
    "optimizer = Optimizer('Adam', model)\n",
    "    \n",
    "for t in range(epochs): \n",
    "    train_loss = train_loop(train_dataloader, model, loss_fn, optimizer)\n",
    "    val_loss, val_accuracy = test_loop(val_dataloader, model, loss_fn)\n",
    "    train_loss2, train_accuracy = test_loop(train_dataloader, model, loss_fn)\n",
    "    Epoch = t\n",
    "    print(f\"{str(Epoch):>5s}{train_loss:>13f}{val_loss:>11f}{train_accuracy:>16f}{val_accuracy:>14f}\")\n",
    "    PerformanceDF.loc[t,:]=[Epoch,train_loss,val_loss,train_accuracy,val_accuracy]\n",
    "    \n",
    "    # note: I am not sure how to load the MSD into the model\n",
    "    if Epoch == 0:\n",
    "        highest_val_accuracy = 0 \n",
    "        MSD0 = copy.deepcopy(model.state_dict())\n",
    "    if val_accuracy > highest_val_accuracy:\n",
    "        highest_val_accuracy = val_accuracy\n",
    "        MSD_Best = copy.deepcopy(model.state_dict())\n",
    "    \n",
    "print(\"Done!\")"
   ]
  },
  {
   "cell_type": "code",
   "execution_count": 16,
   "id": "31a345c0",
   "metadata": {},
   "outputs": [
    {
     "data": {
      "text/plain": [
       "(1.0359597623348236, 0.994258872651357)"
      ]
     },
     "execution_count": 16,
     "metadata": {},
     "output_type": "execute_result"
    }
   ],
   "source": [
    "train_loss2, train_accuracy"
   ]
  },
  {
   "cell_type": "code",
   "execution_count": 17,
   "id": "936ec48e",
   "metadata": {},
   "outputs": [
    {
     "name": "stdout",
     "output_type": "stream",
     "text": [
      "Best recorded epoch validation accuracy: 79.14\n",
      "Best epoch recalculated validation accuracy: 78.31\n",
      "First epoch validation Accuracy: 55.79\n"
     ]
    }
   ],
   "source": [
    "print('Best recorded epoch validation accuracy: ' + str(round(100*highest_val_accuracy,2)))\n",
    "\n",
    "BestModel = copy.deepcopy(model)\n",
    "BestModel.load_state_dict(MSD_Best)\n",
    "val_loss,best_val_accuracy = test_loop(val_dataloader, BestModel, loss_fn)\n",
    "print('Best epoch recalculated validation accuracy: ' + str(round(100*best_val_accuracy,2)))\n",
    "\n",
    "FirstModel = copy.deepcopy(model)\n",
    "FirstModel.load_state_dict(MSD0)\n",
    "val_loss,first_val_accuracy = test_loop(val_dataloader, FirstModel, loss_fn)\n",
    "print('First epoch validation Accuracy: ' + str(round(100*first_val_accuracy,2)))"
   ]
  },
  {
   "cell_type": "code",
   "execution_count": null,
   "id": "008e2b81",
   "metadata": {},
   "outputs": [],
   "source": []
  },
  {
   "cell_type": "code",
   "execution_count": 18,
   "id": "28de5e9e",
   "metadata": {},
   "outputs": [
    {
     "data": {
      "image/png": "[encoded data removed]",
      "text/plain": [
       "<Figure size 640x480 with 2 Axes>"
      ]
     },
     "metadata": {},
     "output_type": "display_data"
    }
   ],
   "source": [
    "# build confusion matrix\n",
    "#   https://christianbernecker.medium.com/how-to-create-a-confusion-matrix-in-pytorch-38d06a7f04b7\n",
    "\n",
    "from sklearn.metrics import confusion_matrix, ConfusionMatrixDisplay\n",
    "import seaborn as sn\n",
    "\n",
    "y_pred = []\n",
    "y_true = []\n",
    "\n",
    "# iterate over test data\n",
    "for X, y in val_dataloader:\n",
    "    \n",
    "        X = X.to(torch.float32)\n",
    "        X = X.to(dev)\n",
    "        output = model(X) # Feed Network\n",
    "\n",
    "        output = (torch.max(torch.exp(output), 1)[1]).data.cpu().numpy()\n",
    "        output_string = [unique_label_array[i] for i in output]\n",
    "        \n",
    "        y_pred.extend(output_string) # Save Prediction\n",
    "        \n",
    "        labels = y\n",
    "        y_true.extend(labels) # Save Truth\n",
    "\n",
    "# constant for classes\n",
    "# classes = unique_labels\n",
    "\n",
    "# Build confusion matrix\n",
    "cf_matrix = confusion_matrix(y_true, y_pred)\n",
    "disp = ConfusionMatrixDisplay(confusion_matrix=cf_matrix, display_labels=unique_label_array)\n",
    "disp.plot()\n",
    "plt.show()\n",
    "# cf_matrix_norm = np.zeros((len(classes),len(classes)))\n",
    "# for i in np.arange(0,len(classes)):\n",
    "#     cf_matrix_norm[i,:] = cf_matrix[i,:]/sum(cf_matrix[i,:])\n",
    "\n",
    "# df_cm = pd.DataFrame(cf_matrix_norm, index = [i for i in classes],\n",
    "#                      columns = [i for i in classes])\n",
    "# plt.figure(figsize = (6,5))\n",
    "# hm = sn.heatmap(df_cm, annot=True)\n",
    "# hm.set(xlabel='\\n\\nPrediction', ylabel='Label\\n\\n')\n",
    "# plt.savefig('output.png')"
   ]
  },
  {
   "cell_type": "code",
   "execution_count": 19,
   "id": "fc67eeff-4272-4250-8c8c-6abdc3a47b60",
   "metadata": {},
   "outputs": [
    {
     "data": {
      "image/png": "[encoded data removed]",
      "text/plain": [
       "<Figure size 640x480 with 1 Axes>"
      ]
     },
     "metadata": {},
     "output_type": "display_data"
    }
   ],
   "source": [
    "# Graph accuracy for training and validation loss\n",
    "\n",
    "import matplotlib.pyplot as plt\n",
    "plt.plot(PerformanceDF['Epoch'], PerformanceDF['TrainLoss'])\n",
    "plt.plot(PerformanceDF['Epoch'], PerformanceDF['ValLoss'])\n",
    "plt.xlabel('Epoch')\n",
    "plt.ylabel('Loss')\n",
    "\n",
    "plt.legend(['Training', 'Validation'], loc='upper left')\n",
    "#plt.savefig('loss_all_24x24_dropna.pdf')\n",
    "plt.show()"
   ]
  },
  {
   "cell_type": "code",
   "execution_count": 20,
   "id": "2915cc28",
   "metadata": {},
   "outputs": [
    {
     "data": {
      "image/png": "[encoded data removed]",
      "text/plain": [
       "<Figure size 640x480 with 1 Axes>"
      ]
     },
     "metadata": {},
     "output_type": "display_data"
    }
   ],
   "source": [
    "# Graph accuracy for training and validation\n",
    "\n",
    "import matplotlib.pyplot as plt\n",
    "plt.plot(PerformanceDF['Epoch'], PerformanceDF['TrainAcc'])\n",
    "plt.plot(PerformanceDF['Epoch'], PerformanceDF['ValAcc'])\n",
    "plt.xlabel('Epoch')\n",
    "plt.ylabel('Accuracy')\n",
    "plt.ylim([0,1.1])\n",
    "plt.legend(['Training', 'Validation'], loc='upper left')\n",
    "#plt.savefig('accuracy_all_24x24_dropna.pdf')\n",
    "plt.show()"
   ]
  },
  {
   "cell_type": "code",
   "execution_count": 21,
   "id": "56f6f835",
   "metadata": {},
   "outputs": [
    {
     "name": "stdout",
     "output_type": "stream",
     "text": [
      "[459, 77, 238, 185]\n",
      "[459, 77, 238, 185]\n"
     ]
    }
   ],
   "source": [
    "# Validate Orientation of Confusion Matrix\n",
    "#     Data labels go down the rows and predictions label the columns\n",
    "\n",
    "# Print Confusion Matrix Row Sums\n",
    "ConfusionMatrix_RowSums = [sum(cf_matrix[i,:]) for i in np.arange(0,len(unique_label_array))]\n",
    "print(ConfusionMatrix_RowSums)\n",
    "\n",
    "# Print Quantity of Items with each label\n",
    "ValDF_UniqueLabelSums = [sum(validation.iloc[:,1]==unique_label_array[i]) for i in np.arange(0,len(unique_label_array))]\n",
    "print(ValDF_UniqueLabelSums)"
   ]
  },
  {
   "cell_type": "code",
   "execution_count": null,
   "id": "8ed69ce0",
   "metadata": {},
   "outputs": [],
   "source": []
  },
  {
   "cell_type": "code",
   "execution_count": null,
   "id": "79cbdcf7",
   "metadata": {},
   "outputs": [],
   "source": []
  },
  {
   "cell_type": "code",
   "execution_count": null,
   "id": "81c45c56",
   "metadata": {},
   "outputs": [],
   "source": []
  }
 ],
 "metadata": {
  "kernelspec": {
   "display_name": "Python 3 (ipykernel)",
   "language": "python",
   "name": "python3"
  },
  "language_info": {
   "codemirror_mode": {
    "name": "ipython",
    "version": 3
   },
   "file_extension": ".py",
   "mimetype": "text/x-python",
   "name": "python",
   "nbconvert_exporter": "python",
   "pygments_lexer": "ipython3",
   "version": "3.11.5"
  }
 },
 "nbformat": 4,
 "nbformat_minor": 5
}
