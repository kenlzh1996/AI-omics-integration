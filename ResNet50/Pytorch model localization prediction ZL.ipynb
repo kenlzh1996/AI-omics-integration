{
 "cells": [
  {
   "cell_type": "code",
   "execution_count": 1,
   "id": "df14cee1",
   "metadata": {},
   "outputs": [],
   "source": [
    "# Import packages\n",
    "import re\n",
    "from pathlib import Path\n",
    "import numpy as np\n",
    "import pandas as pd\n",
    "import os\n",
    "from pdb import set_trace\n",
    "import matplotlib.pyplot as plt\n",
    "import PIL #for images\n",
    "import copy\n",
    "\n",
    "from sklearn.model_selection import train_test_split\n",
    "from sklearn.utils.class_weight import compute_sample_weight\n",
    "\n",
    "import torch\n",
    "from torch import nn\n",
    "from torch.utils.data import Dataset\n",
    "from torch.utils.data import DataLoader\n",
    "from torchvision.io import read_image\n",
    "from torchvision import models, transforms"
   ]
  },
  {
   "cell_type": "markdown",
   "id": "958310b8",
   "metadata": {},
   "source": [
    "### Values set up"
   ]
  },
  {
   "cell_type": "code",
   "execution_count": 2,
   "id": "383b556f",
   "metadata": {},
   "outputs": [],
   "source": [
    "#Specifications\n",
    "dataset_path = '/home/ec2-user/MLNotebooks/Datasets/'\n",
    "image_path = '/home/ec2-user/MLNotebooks/ResNet50/'\n",
    "# Data splitting and path\n",
    "label_filepath = Path(dataset_path+'SubCellBarcode.MCF7.0622.txt')\n",
    "image_folderpath = Path(image_path+'Krug_18by18Grid_rawdata_imputed')\n",
    "validation_fraction = 0.2\n",
    "\n",
    "# Model weight\n",
    "ModelWeightSpefication = 'random'\n",
    "\n",
    "if ModelWeightSpefication == 'random':\n",
    "    ModelWeights = None\n",
    "if ModelWeightSpefication == 'pretrained':\n",
    "    ModelWeights = models.resnet50.DEFAULT # it is the best available weight for resnet50 \n",
    "    \n",
    "# Optimizer\n",
    "Weight_Decay = 0.0 # L2 regulator \n",
    "#  penalizes for too many weights - helps prevent overfitting\n",
    "\n",
    "Momentum = 0.9\n",
    "#  a way to smooth noise that is passed to the optimizer, 0.9\n",
    "#  momentum is deterimental without label smoothing\n",
    "\n",
    "Learner_rate = 1e-3\n",
    "\n",
    "# Loss Function\n",
    "Label_Smoothing = 0.2\n",
    "#  was 0.1\n",
    "#  sets the target of the loss function to something greater than 0 and less than 1\n",
    "#  helps prevent overfitting\n",
    "\n",
    "TransformOrNot = False\n",
    "\n",
    "ApplyClassWeightToLoss = False\n",
    "# Makes the loss weights equal to the fraction of each category label\n",
    "# Note, a layer is added to the model so the outputs of the model are equal to the number of categories\n",
    "#     This seems like a bug becuase that should already be the case\n",
    "\n",
    "# Run the model\n",
    "epochs = 80"
   ]
  },
  {
   "cell_type": "markdown",
   "id": "6026e403",
   "metadata": {},
   "source": [
    "### Device set up"
   ]
  },
  {
   "cell_type": "code",
   "execution_count": 3,
   "id": "d5d24e33",
   "metadata": {},
   "outputs": [
    {
     "name": "stdout",
     "output_type": "stream",
     "text": [
      "Using device: cuda\n",
      "Is cuda available?: True\n",
      "cuda version: 11.7\n"
     ]
    }
   ],
   "source": [
    "# Check to see if the GPU is available and store it as a variable so tensors can be moved to it\n",
    "device = torch.device('cuda' if torch.cuda.is_available() else 'cpu')\n",
    "print('Using device:', device)\n",
    "print('Is cuda available?:', torch.cuda.is_available())\n",
    "print('cuda version:', torch.version.cuda)\n",
    "dev = \"cuda:0\""
   ]
  },
  {
   "cell_type": "markdown",
   "id": "42e69732",
   "metadata": {},
   "source": [
    "### Transformation set up"
   ]
  },
  {
   "cell_type": "code",
   "execution_count": 4,
   "id": "69482cc1",
   "metadata": {},
   "outputs": [],
   "source": [
    "# Transformation\n",
    "# transforms = transforms.Normalize(mean=[0.485, 0.456, 0.406], std=[0.229, 0.224, 0.225])"
   ]
  },
  {
   "cell_type": "markdown",
   "id": "c15fa12b",
   "metadata": {},
   "source": [
    "### Custom image dataset set up"
   ]
  },
  {
   "cell_type": "code",
   "execution_count": 5,
   "id": "9414395c",
   "metadata": {},
   "outputs": [],
   "source": [
    "# Create the CustomImageDataset class from the parent Dataset class\n",
    "class CustomImageDataset(Dataset):\n",
    "    def __init__(self, input_df, img_dir, transform=None, target_transform=None, image_extension='.png'):\n",
    "        self.img_labels = input_df\n",
    "        self.img_dir = img_dir\n",
    "        self.transform = transform\n",
    "        self.target_transform = target_transform\n",
    "        self.image_extension = image_extension\n",
    "\n",
    "    def __len__(self):\n",
    "        return len(self.img_labels)\n",
    "\n",
    "    def __getitem__(self, idx):\n",
    "        img_path = os.path.join(self.img_dir, self.img_labels.iloc[idx, 0] + self.image_extension)\n",
    "        image = read_image(img_path)\n",
    "        #image = image.float()\n",
    "        label = self.img_labels.iloc[idx, 1]\n",
    "        if self.transform:\n",
    "            image = self.transform(image)\n",
    "        if self.target_transform:\n",
    "            label = self.target_transform(label)\n",
    "            \n",
    "        return image, label"
   ]
  },
  {
   "cell_type": "markdown",
   "id": "704b6de2",
   "metadata": {},
   "source": [
    "### Training/Validation datasets set up"
   ]
  },
  {
   "cell_type": "code",
   "execution_count": 6,
   "id": "0b68d3b5",
   "metadata": {},
   "outputs": [],
   "source": [
    "# Create a function to output training and validation annotation data frames from a single annotations file\n",
    "def GetTrainValAnnotDataFrames(labels, img_dir, val_frac):\n",
    "    # Inputs:\n",
    "    # labels: a directory to an comma separated file with image filenames (no extention, so gene name) and their labels\n",
    "    # img_dir: a directory to the folder containing the image files\n",
    "    # val_frac: the fraction of samples used for validation\n",
    "    \n",
    "    # read the csv file with the sample annotations\n",
    "    labels_df = pd.read_csv(labels, header=None, sep='\\t', dtype=str)\n",
    "    \n",
    "    # read the directory containing the images to get a list of filenames\n",
    "    #     strip the file extension so the filenames match the gene name in labels_df\n",
    "    image_list = [file for file in os.listdir(img_dir) if not file.startswith('.')] # take care of hidden files\n",
    "    gene_list = [os.path.splitext(file)[0] for file in image_list]  \n",
    "    \n",
    "    # remove entries in the labels_df that are not in the list of images\n",
    "    #     this is done so that the training and validation sets are divided correctly\n",
    "    common_indices = [item in gene_list for item in labels_df.iloc[:,0]]\n",
    "    labels_df = labels_df.loc[common_indices,:]\n",
    "    \n",
    "    # extract unique class label into an array\n",
    "    unique_labels = np.unique(labels_df.iloc[:,1])\n",
    "    \n",
    "    # split into training and validation set\n",
    "    train_df, valid_df = train_test_split(labels_df, test_size=val_frac, random_state=42)\n",
    "    \n",
    "    print(f\"Total labels: {len(labels_df)}\")\n",
    "    print(f\"Total genes in training are {len(train_df)}; in validation are {len(valid_df)}; sum is {len(train_df)+len(valid_df)}\")\n",
    "    print(f\"Unique labels: {unique_labels}\")\n",
    "    \n",
    "    return train_df, valid_df, unique_labels"
   ]
  },
  {
   "cell_type": "markdown",
   "id": "4fe9deb7",
   "metadata": {},
   "source": [
    "### Show image and label to tensor set up"
   ]
  },
  {
   "cell_type": "code",
   "execution_count": 7,
   "id": "46bb5a40",
   "metadata": {},
   "outputs": [],
   "source": [
    "# Function to convert a torchvision tensor to the default format for matplotlib\n",
    "    # matplotlib.pyplot.imshow interprets an RGB vector as shape (N,M,3) \n",
    "    # torchvision.io.read_image reads an RGB image as shape (3,N,M)\n",
    "def ShowTorchvisionImage(ImageTensor):\n",
    "    ImageTensor_t1 = ImageTensor.transpose(1,2)\n",
    "    ImageTensor_t2 = ImageTensor_t1.transpose(0,2)\n",
    "    plt.imshow(ImageTensor_t2)\n",
    "    \n",
    "# Function to convert label numpy array to label tensor    \n",
    "def LabelArray_to_Tensor(input_array,labels_unique):\n",
    "    # converts a label array of strings to a tensor of floats\n",
    "    # Inputs:\n",
    "    #   input_array: the array of strings that are labels\n",
    "    #   labels_unique: an ordered list of the unique labels possible for the data set\n",
    "    # Outputs:\n",
    "    #   output_tensor: a tensor of floats, one unique float corresponding to each label\n",
    "    \n",
    "    int_label = np.arange(0,len(labels_unique))\n",
    "    i = 0\n",
    "    for label in labels_unique:\n",
    "        indices = [label == item for item in input_array]\n",
    "        input_array[indices] = int_label[i]\n",
    "        i = i+1\n",
    "\n",
    "    input_array = input_array.astype(float)\n",
    "    output_tensor = torch.as_tensor(input_array)\n",
    "    output_tensor = output_tensor.long()\n",
    "  \n",
    "    return(output_tensor)"
   ]
  },
  {
   "cell_type": "markdown",
   "id": "3109d1f6",
   "metadata": {},
   "source": [
    "### Training and testing epoch loop set up"
   ]
  },
  {
   "cell_type": "code",
   "execution_count": 8,
   "id": "663d6448",
   "metadata": {},
   "outputs": [],
   "source": [
    "# Function for training the weights of the model\n",
    "def train_loop(dataloader, model, loss_fn, optimizer):\n",
    "    size = len(dataloader.dataset)\n",
    "    for batch, (X, y) in enumerate(dataloader):\n",
    "        # Compute prediction and loss\n",
    "\n",
    "        X = X.to(torch.float32) # convert to float32 to avoid error stating byte expected but found float\n",
    "        X = X.to(dev)\n",
    "        pred = model(X) # predict classes using images from the training set\n",
    "        \n",
    "        # convert the labels into a tensor of intigers and compute the loss\n",
    "        y = np.asarray(y)\n",
    "        y = LabelArray_to_Tensor(y,unique_label_array)\n",
    "        y = y.to(dev)\n",
    "        loss = loss_fn(pred, y) # compute the loss based on model output and real labels\n",
    "\n",
    "        # Backpropagation\n",
    "        optimizer.zero_grad() # zero the parameter gradients \n",
    "        loss.backward() # backpropagate the loss\n",
    "        optimizer.step() # adjust parameters based on the calculated gradients\n",
    "             \n",
    "\n",
    "    loss = loss.item() # extract the loss value\n",
    "    \n",
    "    return(loss)\n",
    "            \n",
    "# Function for validating the weights of the model\n",
    "def test_loop(dataloader, model, loss_fn):\n",
    "    size = len(dataloader.dataset)\n",
    "    num_batches = len(dataloader)\n",
    "    test_loss, correct = 0, 0\n",
    "\n",
    "    with torch.no_grad():\n",
    "        for X, y in dataloader:\n",
    "            \n",
    "            # convert to float32 to avoid error stating byte expected but found float\n",
    "            X = X.to(torch.float32)\n",
    "            X = X.to(dev)\n",
    "            pred = model(X)\n",
    "            \n",
    "            # convert the labels into a tensor of intigers and compute the loss\n",
    "            y = np.asarray(y)\n",
    "            y = LabelArray_to_Tensor(y,unique_label_array)\n",
    "            y = y.to(dev)\n",
    "            test_loss += loss_fn(pred, y).item()\n",
    "            correct += (pred.argmax(1) == y).type(torch.float).sum().item()\n",
    "\n",
    "    test_loss /= num_batches\n",
    "    correct /= size\n",
    "    \n",
    "    return(test_loss,correct)"
   ]
  },
  {
   "cell_type": "markdown",
   "id": "052c2cb7",
   "metadata": {},
   "source": [
    "### Pretrained model set up"
   ]
  },
  {
   "cell_type": "code",
   "execution_count": 9,
   "id": "d882c137",
   "metadata": {},
   "outputs": [
    {
     "data": {
      "text/plain": [
       "<bound method Module.parameters of ResNet(\n",
       "  (conv1): Conv2d(3, 64, kernel_size=(7, 7), stride=(2, 2), padding=(3, 3), bias=False)\n",
       "  (bn1): BatchNorm2d(64, eps=1e-05, momentum=0.1, affine=True, track_running_stats=True)\n",
       "  (relu): ReLU(inplace=True)\n",
       "  (maxpool): MaxPool2d(kernel_size=3, stride=2, padding=1, dilation=1, ceil_mode=False)\n",
       "  (layer1): Sequential(\n",
       "    (0): Bottleneck(\n",
       "      (conv1): Conv2d(64, 64, kernel_size=(1, 1), stride=(1, 1), bias=False)\n",
       "      (bn1): BatchNorm2d(64, eps=1e-05, momentum=0.1, affine=True, track_running_stats=True)\n",
       "      (conv2): Conv2d(64, 64, kernel_size=(3, 3), stride=(1, 1), padding=(1, 1), bias=False)\n",
       "      (bn2): BatchNorm2d(64, eps=1e-05, momentum=0.1, affine=True, track_running_stats=True)\n",
       "      (conv3): Conv2d(64, 256, kernel_size=(1, 1), stride=(1, 1), bias=False)\n",
       "      (bn3): BatchNorm2d(256, eps=1e-05, momentum=0.1, affine=True, track_running_stats=True)\n",
       "      (relu): ReLU(inplace=True)\n",
       "      (downsample): Sequential(\n",
       "        (0): Conv2d(64, 256, kernel_size=(1, 1), stride=(1, 1), bias=False)\n",
       "        (1): BatchNorm2d(256, eps=1e-05, momentum=0.1, affine=True, track_running_stats=True)\n",
       "      )\n",
       "    )\n",
       "    (1): Bottleneck(\n",
       "      (conv1): Conv2d(256, 64, kernel_size=(1, 1), stride=(1, 1), bias=False)\n",
       "      (bn1): BatchNorm2d(64, eps=1e-05, momentum=0.1, affine=True, track_running_stats=True)\n",
       "      (conv2): Conv2d(64, 64, kernel_size=(3, 3), stride=(1, 1), padding=(1, 1), bias=False)\n",
       "      (bn2): BatchNorm2d(64, eps=1e-05, momentum=0.1, affine=True, track_running_stats=True)\n",
       "      (conv3): Conv2d(64, 256, kernel_size=(1, 1), stride=(1, 1), bias=False)\n",
       "      (bn3): BatchNorm2d(256, eps=1e-05, momentum=0.1, affine=True, track_running_stats=True)\n",
       "      (relu): ReLU(inplace=True)\n",
       "    )\n",
       "    (2): Bottleneck(\n",
       "      (conv1): Conv2d(256, 64, kernel_size=(1, 1), stride=(1, 1), bias=False)\n",
       "      (bn1): BatchNorm2d(64, eps=1e-05, momentum=0.1, affine=True, track_running_stats=True)\n",
       "      (conv2): Conv2d(64, 64, kernel_size=(3, 3), stride=(1, 1), padding=(1, 1), bias=False)\n",
       "      (bn2): BatchNorm2d(64, eps=1e-05, momentum=0.1, affine=True, track_running_stats=True)\n",
       "      (conv3): Conv2d(64, 256, kernel_size=(1, 1), stride=(1, 1), bias=False)\n",
       "      (bn3): BatchNorm2d(256, eps=1e-05, momentum=0.1, affine=True, track_running_stats=True)\n",
       "      (relu): ReLU(inplace=True)\n",
       "    )\n",
       "  )\n",
       "  (layer2): Sequential(\n",
       "    (0): Bottleneck(\n",
       "      (conv1): Conv2d(256, 128, kernel_size=(1, 1), stride=(1, 1), bias=False)\n",
       "      (bn1): BatchNorm2d(128, eps=1e-05, momentum=0.1, affine=True, track_running_stats=True)\n",
       "      (conv2): Conv2d(128, 128, kernel_size=(3, 3), stride=(2, 2), padding=(1, 1), bias=False)\n",
       "      (bn2): BatchNorm2d(128, eps=1e-05, momentum=0.1, affine=True, track_running_stats=True)\n",
       "      (conv3): Conv2d(128, 512, kernel_size=(1, 1), stride=(1, 1), bias=False)\n",
       "      (bn3): BatchNorm2d(512, eps=1e-05, momentum=0.1, affine=True, track_running_stats=True)\n",
       "      (relu): ReLU(inplace=True)\n",
       "      (downsample): Sequential(\n",
       "        (0): Conv2d(256, 512, kernel_size=(1, 1), stride=(2, 2), bias=False)\n",
       "        (1): BatchNorm2d(512, eps=1e-05, momentum=0.1, affine=True, track_running_stats=True)\n",
       "      )\n",
       "    )\n",
       "    (1): Bottleneck(\n",
       "      (conv1): Conv2d(512, 128, kernel_size=(1, 1), stride=(1, 1), bias=False)\n",
       "      (bn1): BatchNorm2d(128, eps=1e-05, momentum=0.1, affine=True, track_running_stats=True)\n",
       "      (conv2): Conv2d(128, 128, kernel_size=(3, 3), stride=(1, 1), padding=(1, 1), bias=False)\n",
       "      (bn2): BatchNorm2d(128, eps=1e-05, momentum=0.1, affine=True, track_running_stats=True)\n",
       "      (conv3): Conv2d(128, 512, kernel_size=(1, 1), stride=(1, 1), bias=False)\n",
       "      (bn3): BatchNorm2d(512, eps=1e-05, momentum=0.1, affine=True, track_running_stats=True)\n",
       "      (relu): ReLU(inplace=True)\n",
       "    )\n",
       "    (2): Bottleneck(\n",
       "      (conv1): Conv2d(512, 128, kernel_size=(1, 1), stride=(1, 1), bias=False)\n",
       "      (bn1): BatchNorm2d(128, eps=1e-05, momentum=0.1, affine=True, track_running_stats=True)\n",
       "      (conv2): Conv2d(128, 128, kernel_size=(3, 3), stride=(1, 1), padding=(1, 1), bias=False)\n",
       "      (bn2): BatchNorm2d(128, eps=1e-05, momentum=0.1, affine=True, track_running_stats=True)\n",
       "      (conv3): Conv2d(128, 512, kernel_size=(1, 1), stride=(1, 1), bias=False)\n",
       "      (bn3): BatchNorm2d(512, eps=1e-05, momentum=0.1, affine=True, track_running_stats=True)\n",
       "      (relu): ReLU(inplace=True)\n",
       "    )\n",
       "    (3): Bottleneck(\n",
       "      (conv1): Conv2d(512, 128, kernel_size=(1, 1), stride=(1, 1), bias=False)\n",
       "      (bn1): BatchNorm2d(128, eps=1e-05, momentum=0.1, affine=True, track_running_stats=True)\n",
       "      (conv2): Conv2d(128, 128, kernel_size=(3, 3), stride=(1, 1), padding=(1, 1), bias=False)\n",
       "      (bn2): BatchNorm2d(128, eps=1e-05, momentum=0.1, affine=True, track_running_stats=True)\n",
       "      (conv3): Conv2d(128, 512, kernel_size=(1, 1), stride=(1, 1), bias=False)\n",
       "      (bn3): BatchNorm2d(512, eps=1e-05, momentum=0.1, affine=True, track_running_stats=True)\n",
       "      (relu): ReLU(inplace=True)\n",
       "    )\n",
       "  )\n",
       "  (layer3): Sequential(\n",
       "    (0): Bottleneck(\n",
       "      (conv1): Conv2d(512, 256, kernel_size=(1, 1), stride=(1, 1), bias=False)\n",
       "      (bn1): BatchNorm2d(256, eps=1e-05, momentum=0.1, affine=True, track_running_stats=True)\n",
       "      (conv2): Conv2d(256, 256, kernel_size=(3, 3), stride=(2, 2), padding=(1, 1), bias=False)\n",
       "      (bn2): BatchNorm2d(256, eps=1e-05, momentum=0.1, affine=True, track_running_stats=True)\n",
       "      (conv3): Conv2d(256, 1024, kernel_size=(1, 1), stride=(1, 1), bias=False)\n",
       "      (bn3): BatchNorm2d(1024, eps=1e-05, momentum=0.1, affine=True, track_running_stats=True)\n",
       "      (relu): ReLU(inplace=True)\n",
       "      (downsample): Sequential(\n",
       "        (0): Conv2d(512, 1024, kernel_size=(1, 1), stride=(2, 2), bias=False)\n",
       "        (1): BatchNorm2d(1024, eps=1e-05, momentum=0.1, affine=True, track_running_stats=True)\n",
       "      )\n",
       "    )\n",
       "    (1): Bottleneck(\n",
       "      (conv1): Conv2d(1024, 256, kernel_size=(1, 1), stride=(1, 1), bias=False)\n",
       "      (bn1): BatchNorm2d(256, eps=1e-05, momentum=0.1, affine=True, track_running_stats=True)\n",
       "      (conv2): Conv2d(256, 256, kernel_size=(3, 3), stride=(1, 1), padding=(1, 1), bias=False)\n",
       "      (bn2): BatchNorm2d(256, eps=1e-05, momentum=0.1, affine=True, track_running_stats=True)\n",
       "      (conv3): Conv2d(256, 1024, kernel_size=(1, 1), stride=(1, 1), bias=False)\n",
       "      (bn3): BatchNorm2d(1024, eps=1e-05, momentum=0.1, affine=True, track_running_stats=True)\n",
       "      (relu): ReLU(inplace=True)\n",
       "    )\n",
       "    (2): Bottleneck(\n",
       "      (conv1): Conv2d(1024, 256, kernel_size=(1, 1), stride=(1, 1), bias=False)\n",
       "      (bn1): BatchNorm2d(256, eps=1e-05, momentum=0.1, affine=True, track_running_stats=True)\n",
       "      (conv2): Conv2d(256, 256, kernel_size=(3, 3), stride=(1, 1), padding=(1, 1), bias=False)\n",
       "      (bn2): BatchNorm2d(256, eps=1e-05, momentum=0.1, affine=True, track_running_stats=True)\n",
       "      (conv3): Conv2d(256, 1024, kernel_size=(1, 1), stride=(1, 1), bias=False)\n",
       "      (bn3): BatchNorm2d(1024, eps=1e-05, momentum=0.1, affine=True, track_running_stats=True)\n",
       "      (relu): ReLU(inplace=True)\n",
       "    )\n",
       "    (3): Bottleneck(\n",
       "      (conv1): Conv2d(1024, 256, kernel_size=(1, 1), stride=(1, 1), bias=False)\n",
       "      (bn1): BatchNorm2d(256, eps=1e-05, momentum=0.1, affine=True, track_running_stats=True)\n",
       "      (conv2): Conv2d(256, 256, kernel_size=(3, 3), stride=(1, 1), padding=(1, 1), bias=False)\n",
       "      (bn2): BatchNorm2d(256, eps=1e-05, momentum=0.1, affine=True, track_running_stats=True)\n",
       "      (conv3): Conv2d(256, 1024, kernel_size=(1, 1), stride=(1, 1), bias=False)\n",
       "      (bn3): BatchNorm2d(1024, eps=1e-05, momentum=0.1, affine=True, track_running_stats=True)\n",
       "      (relu): ReLU(inplace=True)\n",
       "    )\n",
       "    (4): Bottleneck(\n",
       "      (conv1): Conv2d(1024, 256, kernel_size=(1, 1), stride=(1, 1), bias=False)\n",
       "      (bn1): BatchNorm2d(256, eps=1e-05, momentum=0.1, affine=True, track_running_stats=True)\n",
       "      (conv2): Conv2d(256, 256, kernel_size=(3, 3), stride=(1, 1), padding=(1, 1), bias=False)\n",
       "      (bn2): BatchNorm2d(256, eps=1e-05, momentum=0.1, affine=True, track_running_stats=True)\n",
       "      (conv3): Conv2d(256, 1024, kernel_size=(1, 1), stride=(1, 1), bias=False)\n",
       "      (bn3): BatchNorm2d(1024, eps=1e-05, momentum=0.1, affine=True, track_running_stats=True)\n",
       "      (relu): ReLU(inplace=True)\n",
       "    )\n",
       "    (5): Bottleneck(\n",
       "      (conv1): Conv2d(1024, 256, kernel_size=(1, 1), stride=(1, 1), bias=False)\n",
       "      (bn1): BatchNorm2d(256, eps=1e-05, momentum=0.1, affine=True, track_running_stats=True)\n",
       "      (conv2): Conv2d(256, 256, kernel_size=(3, 3), stride=(1, 1), padding=(1, 1), bias=False)\n",
       "      (bn2): BatchNorm2d(256, eps=1e-05, momentum=0.1, affine=True, track_running_stats=True)\n",
       "      (conv3): Conv2d(256, 1024, kernel_size=(1, 1), stride=(1, 1), bias=False)\n",
       "      (bn3): BatchNorm2d(1024, eps=1e-05, momentum=0.1, affine=True, track_running_stats=True)\n",
       "      (relu): ReLU(inplace=True)\n",
       "    )\n",
       "  )\n",
       "  (layer4): Sequential(\n",
       "    (0): Bottleneck(\n",
       "      (conv1): Conv2d(1024, 512, kernel_size=(1, 1), stride=(1, 1), bias=False)\n",
       "      (bn1): BatchNorm2d(512, eps=1e-05, momentum=0.1, affine=True, track_running_stats=True)\n",
       "      (conv2): Conv2d(512, 512, kernel_size=(3, 3), stride=(2, 2), padding=(1, 1), bias=False)\n",
       "      (bn2): BatchNorm2d(512, eps=1e-05, momentum=0.1, affine=True, track_running_stats=True)\n",
       "      (conv3): Conv2d(512, 2048, kernel_size=(1, 1), stride=(1, 1), bias=False)\n",
       "      (bn3): BatchNorm2d(2048, eps=1e-05, momentum=0.1, affine=True, track_running_stats=True)\n",
       "      (relu): ReLU(inplace=True)\n",
       "      (downsample): Sequential(\n",
       "        (0): Conv2d(1024, 2048, kernel_size=(1, 1), stride=(2, 2), bias=False)\n",
       "        (1): BatchNorm2d(2048, eps=1e-05, momentum=0.1, affine=True, track_running_stats=True)\n",
       "      )\n",
       "    )\n",
       "    (1): Bottleneck(\n",
       "      (conv1): Conv2d(2048, 512, kernel_size=(1, 1), stride=(1, 1), bias=False)\n",
       "      (bn1): BatchNorm2d(512, eps=1e-05, momentum=0.1, affine=True, track_running_stats=True)\n",
       "      (conv2): Conv2d(512, 512, kernel_size=(3, 3), stride=(1, 1), padding=(1, 1), bias=False)\n",
       "      (bn2): BatchNorm2d(512, eps=1e-05, momentum=0.1, affine=True, track_running_stats=True)\n",
       "      (conv3): Conv2d(512, 2048, kernel_size=(1, 1), stride=(1, 1), bias=False)\n",
       "      (bn3): BatchNorm2d(2048, eps=1e-05, momentum=0.1, affine=True, track_running_stats=True)\n",
       "      (relu): ReLU(inplace=True)\n",
       "    )\n",
       "    (2): Bottleneck(\n",
       "      (conv1): Conv2d(2048, 512, kernel_size=(1, 1), stride=(1, 1), bias=False)\n",
       "      (bn1): BatchNorm2d(512, eps=1e-05, momentum=0.1, affine=True, track_running_stats=True)\n",
       "      (conv2): Conv2d(512, 512, kernel_size=(3, 3), stride=(1, 1), padding=(1, 1), bias=False)\n",
       "      (bn2): BatchNorm2d(512, eps=1e-05, momentum=0.1, affine=True, track_running_stats=True)\n",
       "      (conv3): Conv2d(512, 2048, kernel_size=(1, 1), stride=(1, 1), bias=False)\n",
       "      (bn3): BatchNorm2d(2048, eps=1e-05, momentum=0.1, affine=True, track_running_stats=True)\n",
       "      (relu): ReLU(inplace=True)\n",
       "    )\n",
       "  )\n",
       "  (avgpool): AdaptiveAvgPool2d(output_size=(1, 1))\n",
       "  (fc): Linear(in_features=2048, out_features=4, bias=True)\n",
       ")>"
      ]
     },
     "execution_count": 9,
     "metadata": {},
     "output_type": "execute_result"
    }
   ],
   "source": [
    "# Define the model (pretrained)\n",
    "\n",
    "# initial model weights\n",
    "# model = models.resnet50(weights=ModelWeights)\n",
    "model = models.resnet50(weights=None) # without initial weights defined - good for patients not re-arranged\n",
    "model.fc.out_features = 4\n",
    "\n",
    "# Update the out channels to match with number of class in our data\n",
    "if ApplyClassWeightToLoss:\n",
    "    model = models.resnet50()\n",
    "    model.fc.out_features = 4\n",
    "    \n",
    "#     for p in model.parameters(): # Freeze all parameters in the network\n",
    "#         p.requires_grad = False\n",
    "    \n",
    "#     for p in model.classifier.parameters(): # Make classification layer trainable\n",
    "#         p.requires_grad = True \n",
    "        \n",
    "#     for p in model.features[-1].parameters(): # retrain the last layers [-3:-1] mean last three layers\n",
    "#         p.requires_grad = True\n",
    "    \n",
    "model = model.to(dev)\n",
    "\n",
    "# see the model architecture if desired\n",
    "model.parameters"
   ]
  },
  {
   "cell_type": "markdown",
   "id": "62d201c4",
   "metadata": {},
   "source": [
    "### Loss function and unbalanced class weight set up"
   ]
  },
  {
   "cell_type": "code",
   "execution_count": 10,
   "id": "b5baf7a4",
   "metadata": {},
   "outputs": [],
   "source": [
    "# Define the loss function\n",
    "# This needs to be made general for the number of classes\n",
    "\n",
    "# funciton call\n",
    "# training, validation, unique_label_array = GetTrainValAnnotDataFrames(labels=label_filepath, img_dir=image_folderpath, val_frac=validation_fraction)\n",
    "\n",
    "# Wrap data into the custom pytorch dataset class\n",
    "# if TransformOrNot:\n",
    "#     TrainingData = CustomImageDataset(input_df=training,img_dir=image_folderpath, transform=transforms)\n",
    "#     ValidationData = CustomImageDataset(input_df=validation,img_dir=image_folderpath, transform=transforms)\n",
    "# else:\n",
    "#     TrainingData = CustomImageDataset(input_df=training,img_dir=image_folderpath)\n",
    "#     ValidationData = CustomImageDataset(input_df=validation,img_dir=image_folderpath)\n",
    "    \n",
    "# loss function\n",
    "\n",
    "if ApplyClassWeightToLoss:\n",
    "    # Nate's weight tensor([ 2.2273, 13.4550,  3.5913,  5.0439]\n",
    "    # Weights for each class for loss function\n",
    "#     n_cytosol = float(sum(TrainingData.img_labels.iloc[:,1]=='Cytosol'))\n",
    "#     n_mitochondria = float(sum(TrainingData.img_labels.iloc[:,1]=='Mitochondria'))\n",
    "#     n_nuclear = float(sum(TrainingData.img_labels.iloc[:,1]=='Nuclear'))\n",
    "#     n_secretory = float(sum(TrainingData.img_labels.iloc[:,1]=='Secretory'))\n",
    "#     n_total = len(TrainingData.img_labels.iloc[:,1])\n",
    "    \n",
    "    # zhuoheng's weight\n",
    "    # train_weight = compute_sample_weight('balanced', y=train_labels)\n",
    "    LossWeights = torch.tensor([0.59259259,5.33333333,0.84210526,1.06666667]).to(device)\n",
    "    loss_fn = nn.CrossEntropyLoss(label_smoothing=Label_Smoothing)\n",
    "\n",
    "else:\n",
    "    loss_fn = nn.CrossEntropyLoss(label_smoothing=Label_Smoothing)\n",
    "    \n",
    "# https://medium.com/@zergtant/use-weighted-loss-function-to-solve-imbalanced-data-classification-problems-749237f38b75"
   ]
  },
  {
   "cell_type": "markdown",
   "id": "293cdeb0",
   "metadata": {},
   "source": [
    "### Optimizer set up"
   ]
  },
  {
   "cell_type": "code",
   "execution_count": 11,
   "id": "e3af4dda",
   "metadata": {},
   "outputs": [],
   "source": [
    "# Define the optimizer\n",
    "def Optimizer(name, model):\n",
    "    if name == 'SGD_weight':\n",
    "        optimizer = torch.optim.SGD(model.parameters(), lr=Learner_rate, weight_decay=Weight_Decay, momentum=Momentum)\n",
    "    if name == 'SGD_default':\n",
    "        optimizer = torch.optim.SGD(model.parameters(), lr=Learner_rate)\n",
    "    if name == 'Adam':\n",
    "        optimizer = torch.optim.Adam(model.parameters(), lr=Learner_rate, weight_decay=0.05)\n",
    "        \n",
    "    return optimizer"
   ]
  },
  {
   "cell_type": "markdown",
   "id": "e36bdc13",
   "metadata": {},
   "source": [
    "### Early stopping set up"
   ]
  },
  {
   "cell_type": "code",
   "execution_count": 12,
   "id": "f4869dd0",
   "metadata": {},
   "outputs": [],
   "source": [
    "# criterion = torch.optim.lr_scheduler.ReduceLROnPlateau(monitor='val_loss', patience=5)"
   ]
  },
  {
   "cell_type": "markdown",
   "id": "32c4761e",
   "metadata": {},
   "source": [
    "### Actual training"
   ]
  },
  {
   "cell_type": "code",
   "execution_count": 13,
   "id": "f476c7ee",
   "metadata": {},
   "outputs": [
    {
     "name": "stdout",
     "output_type": "stream",
     "text": [
      "Total labels: 7407\n",
      "Total genes in training are 5925; in validation are 1482; sum is 7407\n",
      "Unique labels: ['Cytosol' 'Mitochondria' 'Nuclear' 'Secretory']\n"
     ]
    }
   ],
   "source": [
    "# funciton call\n",
    "training, validation, unique_label_array = GetTrainValAnnotDataFrames(labels=label_filepath, img_dir=image_folderpath, val_frac=validation_fraction)"
   ]
  },
  {
   "cell_type": "code",
   "execution_count": 14,
   "id": "58bd97f9",
   "metadata": {},
   "outputs": [
    {
     "name": "stdout",
     "output_type": "stream",
     "text": [
      "Label: Nuclear\n"
     ]
    },
    {
     "data": {
      "image/png": "[encoded data removed]",
      "text/plain": [
       "<Figure size 640x480 with 1 Axes>"
      ]
     },
     "metadata": {},
     "output_type": "display_data"
    }
   ],
   "source": [
    "# Wrap data into the custom pytorch dataset class\n",
    "if TransformOrNot:\n",
    "    TrainingData = CustomImageDataset(input_df=training,img_dir=image_folderpath, transform=transforms)\n",
    "    ValidationData = CustomImageDataset(input_df=validation,img_dir=image_folderpath, transform=transforms)\n",
    "else:\n",
    "    TrainingData = CustomImageDataset(input_df=training,img_dir=image_folderpath)\n",
    "    ValidationData = CustomImageDataset(input_df=validation,img_dir=image_folderpath)\n",
    "\n",
    "# Define Data Loaders\n",
    "train_dataloader = DataLoader(TrainingData, batch_size=64, shuffle=True)\n",
    "val_dataloader = DataLoader(ValidationData, batch_size=64, shuffle=True)\n",
    "\n",
    "# Display a training image and its corresponding label.\n",
    "train_features, train_labels = next(iter(train_dataloader))\n",
    "img = train_features[0].squeeze() #no squeeze\n",
    "label = train_labels[0]\n",
    "ShowTorchvisionImage(img)\n",
    "print(f\"Label: {label}\")"
   ]
  },
  {
   "cell_type": "code",
   "execution_count": 15,
   "id": "1b7b6957",
   "metadata": {},
   "outputs": [
    {
     "name": "stdout",
     "output_type": "stream",
     "text": [
      "Epoch   Train Loss   Val Loss   Train Accuracy   Val Accuracy\n",
      "\n",
      "    0     2.917149   2.977775        0.389367      0.400810\n",
      "    1     2.955751   3.044484        0.403207      0.380567\n",
      "    2     3.007229   2.979380        0.390211      0.379217\n",
      "    3     2.935181   2.963831        0.422110      0.426451\n",
      "    4     2.978381   2.905487        0.448439      0.427126\n",
      "    5     3.099308   3.000588        0.411646      0.355601\n",
      "    6     2.845796   2.903928        0.503122      0.445344\n",
      "    7     2.691507   2.903737        0.515274      0.493927\n",
      "    8     2.844759   2.866097        0.541941      0.464238\n",
      "    9     2.859641   2.809285        0.584979      0.535088\n",
      "   10     2.638874   2.788053        0.608270      0.575574\n",
      "   11     2.781040   2.812042        0.616878      0.545209\n",
      "   12     2.655549   2.787490        0.644895      0.553306\n",
      "   13     2.636020   2.798488        0.646582      0.543185\n",
      "   14     2.693743   2.756523        0.694852      0.597166\n",
      "   15     2.617828   2.731237        0.738565      0.607287\n",
      "   16     2.529075   2.751525        0.728439      0.574224\n",
      "   17     2.581886   2.735274        0.765401      0.621457\n",
      "   18     2.386702   2.681203        0.804219      0.629555\n",
      "   19     2.326188   2.731053        0.823291      0.626856\n",
      "   20     2.447083   2.763093        0.820591      0.626856\n",
      "   21     2.592986   2.738234        0.838650      0.641026\n",
      "   22     2.398072   2.815560        0.865823      0.620783\n",
      "   23     2.589620   2.820781        0.862785      0.636302\n",
      "   24     2.269358   2.830998        0.896540      0.629555\n",
      "   25     2.265917   2.818486        0.891646      0.633603\n",
      "   26     2.288973   2.888883        0.883544      0.653846\n",
      "   27     2.369595   2.936501        0.912405      0.636302\n",
      "   28     2.175284   2.985316        0.921519      0.631579\n",
      "   29     2.182306   2.916047        0.941603      0.639676\n",
      "   30     2.290905   2.945728        0.942278      0.657220\n",
      "   31     2.279272   3.102479        0.935359      0.624157\n",
      "   32     2.152133   3.002224        0.940084      0.643725\n",
      "   33     2.064402   3.108521        0.940928      0.636977\n",
      "   34     2.064777   3.063623        0.959494      0.637652\n",
      "   35     2.011224   3.083030        0.943629      0.637652\n",
      "   36     2.125334   3.077141        0.967764      0.666667\n",
      "   37     1.971365   3.117487        0.966751      0.659244\n",
      "   38     1.989332   3.147726        0.964726      0.637652\n",
      "   39     1.974016   3.204345        0.966582      0.643050\n",
      "   40     1.974806   3.128202        0.979409      0.647773\n",
      "   41     2.030997   3.182442        0.973671      0.643725\n",
      "   42     1.986848   3.187504        0.983291      0.653846\n",
      "   43     1.925400   3.173514        0.972996      0.639001\n",
      "   44     2.003376   3.235466        0.976709      0.639001\n",
      "   45     1.952903   3.201575        0.978565      0.656545\n",
      "   46     1.919744   3.263923        0.980928      0.654521\n",
      "   47     2.049548   3.246402        0.983122      0.652497\n",
      "   48     1.919633   3.239803        0.982110      0.651822\n",
      "   49     1.911378   3.231035        0.990549      0.661269\n",
      "   50     1.948491   3.302610        0.985992      0.646424\n",
      "   51     1.931342   3.348945        0.987848      0.654521\n",
      "   52     1.903641   3.359403        0.981603      0.659919\n",
      "   53     1.932514   3.339669        0.989536      0.655870\n",
      "   54     1.909367   3.274702        0.993586      0.648448\n",
      "   55     2.007611   3.315420        0.993249      0.661943\n",
      "   56     1.956473   3.386174        0.988523      0.656545\n",
      "   57     2.085365   3.355819        0.993249      0.663968\n",
      "   58     2.079421   3.354899        0.994599      0.651147\n",
      "   59     1.976810   3.370285        0.981941      0.663293\n",
      "   60     1.975910   3.445616        0.990886      0.648448\n",
      "   61     1.976151   3.447052        0.995274      0.654521\n",
      "   62     1.999294   3.356582        0.993586      0.659919\n",
      "   63     1.916567   3.419740        0.994768      0.658570\n",
      "   64     2.081539   3.457042        0.984641      0.645074\n",
      "   65     2.084722   3.358841        0.992236      0.659919\n",
      "   66     1.973466   3.380153        0.991899      0.653846\n",
      "   67     2.067680   3.362125        0.994937      0.664642\n",
      "   68     1.945344   3.411084        0.996287      0.670715\n",
      "   69     1.907677   3.385802        0.996456      0.664642\n",
      "   70     1.893998   3.507315        0.995443      0.662618\n",
      "   71     1.917885   3.443456        0.996624      0.657220\n",
      "   72     1.931255   3.457152        0.996287      0.660594\n",
      "   73     1.908197   3.426755        0.995274      0.662618\n",
      "   74     1.949406   3.372518        0.996118      0.663293\n",
      "   75     1.908822   3.377030        0.990042      0.663968\n",
      "   76     1.897138   3.335261        0.994093      0.659244\n",
      "   77     1.941319   3.408504        0.993080      0.663968\n",
      "   78     1.915994   3.450409        0.998481      0.661269\n",
      "   79     1.982832   3.453577        0.992405      0.647773\n",
      "Done!\n"
     ]
    }
   ],
   "source": [
    "# Run the model\n",
    "\n",
    "# set up performance dataframe to record loss and accuracy of each epoch\n",
    "PerformanceDF = pd.DataFrame(index=range(epochs),columns=['Epoch','TrainLoss','ValLoss','TrainAcc','ValAcc'])\n",
    "print(f\"{'Epoch':>5s}{'Train Loss':>13s}{'Val Loss':>11s}{'Train Accuracy':>17s}{'Val Accuracy':>15s}\\n\")\n",
    "\n",
    "# call optimizer\n",
    "optimizer = Optimizer('SGD_weight', model)\n",
    "    \n",
    "for t in range(epochs): \n",
    "    train_loss = train_loop(train_dataloader, model, loss_fn, optimizer)\n",
    "    val_loss, val_accuracy = test_loop(val_dataloader, model, loss_fn)\n",
    "    train_loss2, train_accuracy = test_loop(train_dataloader, model, loss_fn)\n",
    "    Epoch = t\n",
    "    print(f\"{str(Epoch):>5s}{train_loss:>13f}{val_loss:>11f}{train_accuracy:>16f}{val_accuracy:>14f}\")\n",
    "    PerformanceDF.loc[t,:]=[Epoch,train_loss,val_loss,train_accuracy,val_accuracy]\n",
    "    \n",
    "    # note: I am not sure how to load the MSD into the model\n",
    "    if Epoch == 0:\n",
    "        highest_val_accuracy = 0 \n",
    "        MSD0 = copy.deepcopy(model.state_dict())\n",
    "    if val_accuracy > highest_val_accuracy:\n",
    "        highest_val_accuracy = val_accuracy\n",
    "        MSD_Best = copy.deepcopy(model.state_dict())\n",
    "    \n",
    "print(\"Done!\")"
   ]
  },
  {
   "cell_type": "code",
   "execution_count": 16,
   "id": "31a345c0",
   "metadata": {},
   "outputs": [
    {
     "data": {
      "text/plain": [
       "(1.9135253160230574, 0.9924050632911392)"
      ]
     },
     "execution_count": 16,
     "metadata": {},
     "output_type": "execute_result"
    }
   ],
   "source": [
    "train_loss2, train_accuracy"
   ]
  },
  {
   "cell_type": "code",
   "execution_count": 17,
   "id": "936ec48e",
   "metadata": {},
   "outputs": [
    {
     "name": "stdout",
     "output_type": "stream",
     "text": [
      "Best recorded epoch validation accuracy: 67.07\n",
      "Best epoch recalculated validation accuracy: 66.06\n",
      "First epoch validation Accuracy: 39.14\n"
     ]
    }
   ],
   "source": [
    "print('Best recorded epoch validation accuracy: ' + str(round(100*highest_val_accuracy,2)))\n",
    "\n",
    "BestModel = copy.deepcopy(model)\n",
    "BestModel.load_state_dict(MSD_Best)\n",
    "val_loss,best_val_accuracy = test_loop(val_dataloader, BestModel, loss_fn)\n",
    "print('Best epoch recalculated validation accuracy: ' + str(round(100*best_val_accuracy,2)))\n",
    "\n",
    "FirstModel = copy.deepcopy(model)\n",
    "FirstModel.load_state_dict(MSD0)\n",
    "val_loss,first_val_accuracy = test_loop(val_dataloader, FirstModel, loss_fn)\n",
    "print('First epoch validation Accuracy: ' + str(round(100*first_val_accuracy,2)))"
   ]
  },
  {
   "cell_type": "code",
   "execution_count": null,
   "id": "008e2b81",
   "metadata": {},
   "outputs": [],
   "source": []
  },
  {
   "cell_type": "code",
   "execution_count": 18,
   "id": "28de5e9e",
   "metadata": {},
   "outputs": [
    {
     "data": {
      "image/png": "[encoded data removed]",
      "text/plain": [
       "<Figure size 640x480 with 2 Axes>"
      ]
     },
     "metadata": {},
     "output_type": "display_data"
    }
   ],
   "source": [
    "# build confusion matrix\n",
    "#   https://christianbernecker.medium.com/how-to-create-a-confusion-matrix-in-pytorch-38d06a7f04b7\n",
    "\n",
    "from sklearn.metrics import confusion_matrix, ConfusionMatrixDisplay\n",
    "import seaborn as sn\n",
    "\n",
    "y_pred = []\n",
    "y_true = []\n",
    "\n",
    "# iterate over test data\n",
    "for X, y in val_dataloader:\n",
    "    \n",
    "        X = X.to(torch.float32)\n",
    "        X = X.to(dev)\n",
    "        output = model(X) # Feed Network\n",
    "\n",
    "        output = (torch.max(torch.exp(output), 1)[1]).data.cpu().numpy()\n",
    "        output_string = [unique_label_array[i] for i in output]\n",
    "        \n",
    "        y_pred.extend(output_string) # Save Prediction\n",
    "        \n",
    "        labels = y\n",
    "        y_true.extend(labels) # Save Truth\n",
    "\n",
    "# constant for classes\n",
    "# classes = unique_labels\n",
    "\n",
    "# Build confusion matrix\n",
    "cf_matrix = confusion_matrix(y_true, y_pred)\n",
    "disp = ConfusionMatrixDisplay(confusion_matrix=cf_matrix, display_labels=unique_label_array)\n",
    "disp.plot()\n",
    "plt.show()\n",
    "# cf_matrix_norm = np.zeros((len(classes),len(classes)))\n",
    "# for i in np.arange(0,len(classes)):\n",
    "#     cf_matrix_norm[i,:] = cf_matrix[i,:]/sum(cf_matrix[i,:])\n",
    "\n",
    "# df_cm = pd.DataFrame(cf_matrix_norm, index = [i for i in classes],\n",
    "#                      columns = [i for i in classes])\n",
    "# plt.figure(figsize = (6,5))\n",
    "# hm = sn.heatmap(df_cm, annot=True)\n",
    "# hm.set(xlabel='\\n\\nPrediction', ylabel='Label\\n\\n')\n",
    "# plt.savefig('output.png')"
   ]
  },
  {
   "cell_type": "code",
   "execution_count": 19,
   "id": "fc67eeff-4272-4250-8c8c-6abdc3a47b60",
   "metadata": {},
   "outputs": [
    {
     "data": {
      "image/png": "[encoded data removed]",
      "text/plain": [
       "<Figure size 640x480 with 1 Axes>"
      ]
     },
     "metadata": {},
     "output_type": "display_data"
    }
   ],
   "source": [
    "# Graph accuracy for training and validation loss\n",
    "\n",
    "import matplotlib.pyplot as plt\n",
    "plt.plot(PerformanceDF['Epoch'], PerformanceDF['TrainLoss'])\n",
    "plt.plot(PerformanceDF['Epoch'], PerformanceDF['ValLoss'])\n",
    "plt.xlabel('Epoch')\n",
    "plt.ylabel('Loss')\n",
    "\n",
    "plt.legend(['Training', 'Validation'], loc='upper left')\n",
    "plt.savefig('loss_raw_imputed.pdf')\n",
    "plt.show()"
   ]
  },
  {
   "cell_type": "code",
   "execution_count": 20,
   "id": "2915cc28",
   "metadata": {},
   "outputs": [
    {
     "data": {
      "image/png": "[encoded data removed]",
      "text/plain": [
       "<Figure size 640x480 with 1 Axes>"
      ]
     },
     "metadata": {},
     "output_type": "display_data"
    }
   ],
   "source": [
    "# Graph accuracy for training and validation\n",
    "\n",
    "import matplotlib.pyplot as plt\n",
    "plt.plot(PerformanceDF['Epoch'], PerformanceDF['TrainAcc'])\n",
    "plt.plot(PerformanceDF['Epoch'], PerformanceDF['ValAcc'])\n",
    "plt.xlabel('Epoch')\n",
    "plt.ylabel('Accuracy')\n",
    "plt.ylim([0,1])\n",
    "plt.legend(['Training', 'Validation'], loc='upper left')\n",
    "plt.savefig('accuracy_raw_imputed.pdf')\n",
    "plt.show()"
   ]
  },
  {
   "cell_type": "code",
   "execution_count": 21,
   "id": "56f6f835",
   "metadata": {},
   "outputs": [
    {
     "name": "stdout",
     "output_type": "stream",
     "text": [
      "[661, 96, 392, 333]\n",
      "[661, 96, 392, 333]\n"
     ]
    }
   ],
   "source": [
    "# Validate Orientation of Confusion Matrix\n",
    "#     Data labels go down the rows and predictions label the columns\n",
    "\n",
    "# Print Confusion Matrix Row Sums\n",
    "ConfusionMatrix_RowSums = [sum(cf_matrix[i,:]) for i in np.arange(0,len(unique_label_array))]\n",
    "print(ConfusionMatrix_RowSums)\n",
    "\n",
    "# Print Quantity of Items with each label\n",
    "ValDF_UniqueLabelSums = [sum(validation.iloc[:,1]==unique_label_array[i]) for i in np.arange(0,len(unique_label_array))]\n",
    "print(ValDF_UniqueLabelSums)"
   ]
  },
  {
   "cell_type": "code",
   "execution_count": null,
   "id": "8ed69ce0",
   "metadata": {},
   "outputs": [],
   "source": []
  },
  {
   "cell_type": "code",
   "execution_count": null,
   "id": "79cbdcf7",
   "metadata": {},
   "outputs": [],
   "source": []
  },
  {
   "cell_type": "code",
   "execution_count": null,
   "id": "81c45c56",
   "metadata": {},
   "outputs": [],
   "source": []
  }
 ],
 "metadata": {
  "kernelspec": {
   "display_name": "Python 3 (ipykernel)",
   "language": "python",
   "name": "python3"
  },
  "language_info": {
   "codemirror_mode": {
    "name": "ipython",
    "version": 3
   },
   "file_extension": ".py",
   "mimetype": "text/x-python",
   "name": "python",
   "nbconvert_exporter": "python",
   "pygments_lexer": "ipython3",
   "version": "3.11.5"
  }
 },
 "nbformat": 4,
 "nbformat_minor": 5
}
