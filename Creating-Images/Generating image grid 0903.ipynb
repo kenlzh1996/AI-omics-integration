{
 "cells": [
  {
   "cell_type": "code",
   "execution_count": 1,
   "id": "1ee492b7",
   "metadata": {},
   "outputs": [],
   "source": [
    "import numpy as np\n",
    "from PIL import Image\n",
    "import plotly.express as px\n",
    "import plotly.colors as pc\n",
    "from pdb import set_trace\n",
    "import re\n",
    "import pandas as pd\n",
    "import os\n",
    "import plotly.express as px"
   ]
  },
  {
   "cell_type": "code",
   "execution_count": 2,
   "id": "9dba4288",
   "metadata": {},
   "outputs": [],
   "source": [
    "# Open the proteomics data and only keep rows where gene has value for all samples\n",
    "PFP = 'kr_pro_z.csv' # proteomics file path\n",
    "PD = pd.read_csv(PFP)\n",
    "\n",
    "PD.index = PD.loc[:,'Gene']\n",
    "PD = PD.loc[:,PD.columns!='Gene']\n",
    "\n",
    "DropRowIndices = [(sum(np.isnan(PD.loc[gene,:]))>0) for gene in PD.index]\n",
    "KeepRowIndices = [not x for x in DropRowIndices]\n",
    "PD = PD.loc[KeepRowIndices,:]"
   ]
  },
  {
   "cell_type": "code",
   "execution_count": 3,
   "id": "f716350a",
   "metadata": {},
   "outputs": [],
   "source": [
    "# Open the mRNA data and only keep rows where gene has value for all samples\n",
    "MFP = 'kr_rna_z.csv' # mRNA file path\n",
    "MD = pd.read_csv(MFP)\n",
    "\n",
    "MD.index = MD.loc[:,'Gene']\n",
    "MD = MD.loc[:,MD.columns!='Gene']\n",
    "\n",
    "DropRowIndices = [(sum(np.isnan(MD.loc[gene,:]))>0) for gene in MD.index]\n",
    "KeepRowIndices = [not x for x in DropRowIndices]\n",
    "MD = MD.loc[KeepRowIndices,:]"
   ]
  },
  {
   "cell_type": "code",
   "execution_count": 4,
   "id": "657148b8",
   "metadata": {},
   "outputs": [],
   "source": [
    "# Open the localization data\n",
    "LFP = 'SubCellBarcode.MCF7.0622.txt'\n",
    "LD = pd.read_csv(filepath_or_buffer=LFP,sep='\\t')\n",
    "LD.index = LD.loc[:,'Protein']\n",
    "LD = LD.loc[:,LD.columns!='Protein']"
   ]
  },
  {
   "cell_type": "code",
   "execution_count": 5,
   "id": "eb6e4653",
   "metadata": {},
   "outputs": [],
   "source": [
    "# Remove unclassified class\n",
    "NotUnclassInd = LD.loc[:,'Localization'] != 'Unclassified'\n",
    "LD = LD.loc[NotUnclassInd,:]"
   ]
  },
  {
   "cell_type": "code",
   "execution_count": 6,
   "id": "531d72d3",
   "metadata": {},
   "outputs": [
    {
     "data": {
      "text/plain": [
       "array(['Cytosol', 'Mitochondria', 'Nuclear', 'Secretory'], dtype=object)"
      ]
     },
     "execution_count": 6,
     "metadata": {},
     "output_type": "execute_result"
    }
   ],
   "source": [
    "# Sanity check\n",
    "np.unique(LD.loc[:,'Localization'])"
   ]
  },
  {
   "cell_type": "code",
   "execution_count": 7,
   "id": "b63dddac",
   "metadata": {},
   "outputs": [
    {
     "name": "stdout",
     "output_type": "stream",
     "text": [
      "6173\n",
      "6173\n",
      "6173\n"
     ]
    }
   ],
   "source": [
    "# Keep only rows whose genes are represented in both data sets\n",
    "IntersectingGenes = [value for value in PD.index if ((value in MD.index) & (value in LD.index))]\n",
    "PD = PD.loc[IntersectingGenes,:]\n",
    "MD = MD.loc[IntersectingGenes,:]\n",
    "LD = LD.loc[IntersectingGenes,:]\n",
    "print(len(PD.index))\n",
    "print(len(MD.index))\n",
    "print(len(LD.index))"
   ]
  },
  {
   "cell_type": "code",
   "execution_count": 8,
   "id": "45b9945c",
   "metadata": {},
   "outputs": [],
   "source": [
    "# Create a square, 2D array shape=(18,18) from a 1D array shape=(324,)\n",
    "def SquareArray(array):\n",
    "    dimension = int(len(array)**0.5)\n",
    "    Squared_Array = np.empty(shape = [dimension,dimension])\n",
    "    for i in np.arange(0,dimension**2):\n",
    "        row = int(np.floor(i/dimension))\n",
    "        column = int(i - dimension*row)\n",
    "        Squared_Array[row,column] = array[i]\n",
    "    return(Squared_Array)"
   ]
  },
  {
   "cell_type": "code",
   "execution_count": 9,
   "id": "4f622230",
   "metadata": {},
   "outputs": [],
   "source": [
    "# Assign a RGB color array to each entry in a 2D array.\n",
    "#     Store the RGB color arrays in a 3D array where the RGB values go down the 3rd axis (18,18,3)\n",
    "def CreateImage(array):\n",
    "    dimension = len(array[0,:])\n",
    "    RGB_Array = np.empty(shape = [dimension,dimension,3])\n",
    "    for i in np.arange(0,dimension):\n",
    "        for j in np.arange(0,dimension):\n",
    "            value = array[i,j]\n",
    "            Array_To_Store = np.asarray(GetColor(value),dtype=int)\n",
    "            RGB_Array[i,j,0:3] = Array_To_Store\n",
    "    return(RGB_Array)"
   ]
  },
  {
   "cell_type": "code",
   "execution_count": 10,
   "id": "6a9e62d6",
   "metadata": {},
   "outputs": [],
   "source": [
    "# Create Gene Images\n",
    "def GeneImages(PD,MD,gene):\n",
    "    # Make an array for each gene where the protein data is followed by the mRNA value for every patient\n",
    "    # patient1  patient1  patient2 patient2  ...  patient98  patient98\n",
    "    #   prot     mRNA       prot     mRNA           prot       mRNA\n",
    "\n",
    "    # Each image will have room for 162 (18*18/2) samples\n",
    "    n_sample_spaces = 162\n",
    "    \n",
    "    # The number of samples in the given data set\n",
    "    n_samples = len(PD.columns)\n",
    "    \n",
    "    GeneArray = np.array([])\n",
    "    for i in np.arange(0,n_sample_spaces):\n",
    "        # if there is data for a sample, access it\n",
    "        if i<n_samples:\n",
    "            Array = np.array([PD.loc[gene,:][i],MD.loc[gene,:][i]])\n",
    "        # if a sample space needs to be written with blank data, do so\n",
    "        if i>=n_samples:\n",
    "            Array = np.array([float(\"NaN\"),float(\"NaN\")])\n",
    "\n",
    "        GeneArray = np.concatenate((GeneArray,Array))\n",
    "                \n",
    "    Square_GeneArray = SquareArray(GeneArray)\n",
    "    # Get the RGB array\n",
    "    RGB = CreateImage(Square_GeneArray)\n",
    "    RGB = np.asarray(RGB,dtype=np.uint8)\n",
    "\n",
    "    # Make an image from the RGB array\n",
    "    image = Image.fromarray(RGB)\n",
    "    \n",
    "    # Get compartment\n",
    "    compartment = LD.loc[gene,'Localization']\n",
    "    \n",
    "    # Display and save the image\n",
    "    image.save('./Krug_18by18Grid_20230903/'+gene+'.png')\n",
    "    "
   ]
  },
  {
   "cell_type": "code",
   "execution_count": 11,
   "id": "07bc3e0d",
   "metadata": {},
   "outputs": [],
   "source": [
    "# Function to select a color from a pre-defined continuous pallet.\n",
    "def GetColor(z):\n",
    "    \n",
    "    # If there is a data point, find the color corresponding to the data point\n",
    "    if (not np.isnan(z)) & (z<100):\n",
    "        max_magnitude = 3\n",
    "        if z > 3:\n",
    "            z = 3\n",
    "        if z < -3:\n",
    "            z = -3\n",
    "        # scale measurements from 0 to 1 (min-max scaling == x-min/max-min) \n",
    "        coordinate = 1 - (z-(-max_magnitude))/(3-(-max_magnitude))\n",
    "\n",
    "        color = pc.sample_colorscale('rdbu', samplepoints=float(coordinate), low=0.0, high=1.0, colortype='rgb')\n",
    "\n",
    "        Color = color[0]\n",
    "        Color = Color[Color.find('(')+1:Color.find(')')]\n",
    "        Color = Color.split(\",\")\n",
    "        Color = [Color[i].strip() for i in np.arange(0,len(Color))]\n",
    "        Color = np.array(Color)\n",
    "    \n",
    "    # If there is no data, make the color gray\n",
    "    if np.isnan(z):\n",
    "        Color = np.array([128,128,128])\n",
    "    \n",
    "    Color = Color.astype(int)\n",
    "    \n",
    "    return(Color)"
   ]
  },
  {
   "cell_type": "code",
   "execution_count": 12,
   "id": "1b368c3e",
   "metadata": {},
   "outputs": [
    {
     "name": "stdout",
     "output_type": "stream",
     "text": [
      "0\n",
      "100\n",
      "200\n",
      "300\n",
      "400\n",
      "500\n",
      "600\n",
      "700\n",
      "800\n",
      "900\n",
      "1000\n",
      "1100\n",
      "1200\n",
      "1300\n",
      "1400\n",
      "1500\n",
      "1600\n",
      "1700\n",
      "1800\n",
      "1900\n",
      "2000\n",
      "2100\n",
      "2200\n",
      "2300\n",
      "2400\n",
      "2500\n",
      "2600\n",
      "2700\n",
      "2800\n",
      "2900\n",
      "3000\n",
      "3100\n",
      "3200\n",
      "3300\n",
      "3400\n",
      "3500\n",
      "3600\n",
      "3700\n",
      "3800\n",
      "3900\n",
      "4000\n",
      "4100\n",
      "4200\n",
      "4300\n",
      "4400\n",
      "4500\n",
      "4600\n",
      "4700\n",
      "4800\n",
      "4900\n",
      "5000\n",
      "5100\n",
      "5200\n",
      "5300\n",
      "5400\n",
      "5500\n",
      "5600\n",
      "5700\n",
      "5800\n",
      "5900\n",
      "6000\n",
      "6100\n"
     ]
    }
   ],
   "source": [
    "i = 0\n",
    "for gene in PD.index:\n",
    "    GeneImages(PD,MD,gene)\n",
    "    if i%100==0:\n",
    "        print(i)\n",
    "    i = i+1"
   ]
  }
 ],
 "metadata": {
  "kernelspec": {
   "display_name": "Python 3 (ipykernel)",
   "language": "python",
   "name": "python3"
  },
  "language_info": {
   "codemirror_mode": {
    "name": "ipython",
    "version": 3
   },
   "file_extension": ".py",
   "mimetype": "text/x-python",
   "name": "python",
   "nbconvert_exporter": "python",
   "pygments_lexer": "ipython3",
   "version": "3.11.3"
  }
 },
 "nbformat": 4,
 "nbformat_minor": 5
}
